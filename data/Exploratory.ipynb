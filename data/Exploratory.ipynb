{
 "cells": [
  {
   "cell_type": "code",
   "execution_count": 1,
   "id": "e370881b",
   "metadata": {},
   "outputs": [],
   "source": [
    "# Importing libraries\n",
    "\n",
    "import pandas as pd\n",
    "import numpy as np\n",
    "\n",
    "import matplotlib.pyplot as plt\n",
    "import seaborn as sns\n",
    "\n",
    "import warnings\n",
    "warnings.filterwarnings('ignore')"
   ]
  },
  {
   "cell_type": "code",
   "execution_count": 2,
   "id": "9d9cc508",
   "metadata": {},
   "outputs": [],
   "source": [
    "# Loading data (csv+excel)"
   ]
  },
  {
   "cell_type": "code",
   "execution_count": 3,
   "id": "935ea9a1",
   "metadata": {},
   "outputs": [],
   "source": [
    "csv = pd.read_csv('measurements.csv')\n",
    "excel = pd.read_excel ('measurements2.xlsx')"
   ]
  },
  {
   "cell_type": "markdown",
   "id": "c95735d5",
   "metadata": {},
   "source": [
    "--------------"
   ]
  },
  {
   "cell_type": "code",
   "execution_count": 4,
   "id": "d2f176e6",
   "metadata": {},
   "outputs": [],
   "source": [
    "# csv"
   ]
  },
  {
   "cell_type": "code",
   "execution_count": 5,
   "id": "0e3548f1",
   "metadata": {
    "scrolled": true
   },
   "outputs": [
    {
     "data": {
      "text/html": [
       "<div>\n",
       "<style scoped>\n",
       "    .dataframe tbody tr th:only-of-type {\n",
       "        vertical-align: middle;\n",
       "    }\n",
       "\n",
       "    .dataframe tbody tr th {\n",
       "        vertical-align: top;\n",
       "    }\n",
       "\n",
       "    .dataframe thead th {\n",
       "        text-align: right;\n",
       "    }\n",
       "</style>\n",
       "<table border=\"1\" class=\"dataframe\">\n",
       "  <thead>\n",
       "    <tr style=\"text-align: right;\">\n",
       "      <th></th>\n",
       "      <th>distance</th>\n",
       "      <th>consume</th>\n",
       "      <th>speed</th>\n",
       "      <th>temp_inside</th>\n",
       "      <th>temp_outside</th>\n",
       "      <th>specials</th>\n",
       "      <th>gas_type</th>\n",
       "      <th>AC</th>\n",
       "      <th>rain</th>\n",
       "      <th>sun</th>\n",
       "      <th>refill liters</th>\n",
       "      <th>refill gas</th>\n",
       "    </tr>\n",
       "  </thead>\n",
       "  <tbody>\n",
       "    <tr>\n",
       "      <th>0</th>\n",
       "      <td>28</td>\n",
       "      <td>5</td>\n",
       "      <td>26</td>\n",
       "      <td>21,5</td>\n",
       "      <td>12</td>\n",
       "      <td>NaN</td>\n",
       "      <td>E10</td>\n",
       "      <td>0</td>\n",
       "      <td>0</td>\n",
       "      <td>0</td>\n",
       "      <td>45</td>\n",
       "      <td>E10</td>\n",
       "    </tr>\n",
       "    <tr>\n",
       "      <th>1</th>\n",
       "      <td>12</td>\n",
       "      <td>4,2</td>\n",
       "      <td>30</td>\n",
       "      <td>21,5</td>\n",
       "      <td>13</td>\n",
       "      <td>NaN</td>\n",
       "      <td>E10</td>\n",
       "      <td>0</td>\n",
       "      <td>0</td>\n",
       "      <td>0</td>\n",
       "      <td>NaN</td>\n",
       "      <td>NaN</td>\n",
       "    </tr>\n",
       "    <tr>\n",
       "      <th>2</th>\n",
       "      <td>11,2</td>\n",
       "      <td>5,5</td>\n",
       "      <td>38</td>\n",
       "      <td>21,5</td>\n",
       "      <td>15</td>\n",
       "      <td>NaN</td>\n",
       "      <td>E10</td>\n",
       "      <td>0</td>\n",
       "      <td>0</td>\n",
       "      <td>0</td>\n",
       "      <td>NaN</td>\n",
       "      <td>NaN</td>\n",
       "    </tr>\n",
       "    <tr>\n",
       "      <th>3</th>\n",
       "      <td>12,9</td>\n",
       "      <td>3,9</td>\n",
       "      <td>36</td>\n",
       "      <td>21,5</td>\n",
       "      <td>14</td>\n",
       "      <td>NaN</td>\n",
       "      <td>E10</td>\n",
       "      <td>0</td>\n",
       "      <td>0</td>\n",
       "      <td>0</td>\n",
       "      <td>NaN</td>\n",
       "      <td>NaN</td>\n",
       "    </tr>\n",
       "    <tr>\n",
       "      <th>4</th>\n",
       "      <td>18,5</td>\n",
       "      <td>4,5</td>\n",
       "      <td>46</td>\n",
       "      <td>21,5</td>\n",
       "      <td>15</td>\n",
       "      <td>NaN</td>\n",
       "      <td>E10</td>\n",
       "      <td>0</td>\n",
       "      <td>0</td>\n",
       "      <td>0</td>\n",
       "      <td>NaN</td>\n",
       "      <td>NaN</td>\n",
       "    </tr>\n",
       "  </tbody>\n",
       "</table>\n",
       "</div>"
      ],
      "text/plain": [
       "  distance consume  speed temp_inside  temp_outside specials gas_type  AC  \\\n",
       "0       28       5     26        21,5            12      NaN      E10   0   \n",
       "1       12     4,2     30        21,5            13      NaN      E10   0   \n",
       "2     11,2     5,5     38        21,5            15      NaN      E10   0   \n",
       "3     12,9     3,9     36        21,5            14      NaN      E10   0   \n",
       "4     18,5     4,5     46        21,5            15      NaN      E10   0   \n",
       "\n",
       "   rain  sun refill liters refill gas  \n",
       "0     0    0            45        E10  \n",
       "1     0    0           NaN        NaN  \n",
       "2     0    0           NaN        NaN  \n",
       "3     0    0           NaN        NaN  \n",
       "4     0    0           NaN        NaN  "
      ]
     },
     "execution_count": 5,
     "metadata": {},
     "output_type": "execute_result"
    }
   ],
   "source": [
    "csv.head()"
   ]
  },
  {
   "cell_type": "code",
   "execution_count": 6,
   "id": "f380d8a0",
   "metadata": {},
   "outputs": [
    {
     "data": {
      "text/plain": [
       "(388, 12)"
      ]
     },
     "execution_count": 6,
     "metadata": {},
     "output_type": "execute_result"
    }
   ],
   "source": [
    "csv.shape"
   ]
  },
  {
   "cell_type": "code",
   "execution_count": 7,
   "id": "ddfdb0e3",
   "metadata": {},
   "outputs": [
    {
     "name": "stdout",
     "output_type": "stream",
     "text": [
      "<class 'pandas.core.frame.DataFrame'>\n",
      "RangeIndex: 388 entries, 0 to 387\n",
      "Data columns (total 12 columns):\n",
      " #   Column         Non-Null Count  Dtype \n",
      "---  ------         --------------  ----- \n",
      " 0   distance       388 non-null    object\n",
      " 1   consume        388 non-null    object\n",
      " 2   speed          388 non-null    int64 \n",
      " 3   temp_inside    376 non-null    object\n",
      " 4   temp_outside   388 non-null    int64 \n",
      " 5   specials       93 non-null     object\n",
      " 6   gas_type       388 non-null    object\n",
      " 7   AC             388 non-null    int64 \n",
      " 8   rain           388 non-null    int64 \n",
      " 9   sun            388 non-null    int64 \n",
      " 10  refill liters  13 non-null     object\n",
      " 11  refill gas     13 non-null     object\n",
      "dtypes: int64(5), object(7)\n",
      "memory usage: 36.5+ KB\n"
     ]
    }
   ],
   "source": [
    "csv.info()"
   ]
  },
  {
   "cell_type": "code",
   "execution_count": 8,
   "id": "992ebb5b",
   "metadata": {},
   "outputs": [],
   "source": [
    "# Replacing commas with points for numerical (float)"
   ]
  },
  {
   "cell_type": "code",
   "execution_count": 9,
   "id": "016faf02",
   "metadata": {},
   "outputs": [],
   "source": [
    "csv = csv.replace(',', '.', regex = True)"
   ]
  },
  {
   "cell_type": "code",
   "execution_count": 10,
   "id": "e5e2843e",
   "metadata": {},
   "outputs": [
    {
     "data": {
      "text/html": [
       "<div>\n",
       "<style scoped>\n",
       "    .dataframe tbody tr th:only-of-type {\n",
       "        vertical-align: middle;\n",
       "    }\n",
       "\n",
       "    .dataframe tbody tr th {\n",
       "        vertical-align: top;\n",
       "    }\n",
       "\n",
       "    .dataframe thead th {\n",
       "        text-align: right;\n",
       "    }\n",
       "</style>\n",
       "<table border=\"1\" class=\"dataframe\">\n",
       "  <thead>\n",
       "    <tr style=\"text-align: right;\">\n",
       "      <th></th>\n",
       "      <th>distance</th>\n",
       "      <th>consume</th>\n",
       "      <th>speed</th>\n",
       "      <th>temp_inside</th>\n",
       "      <th>temp_outside</th>\n",
       "      <th>specials</th>\n",
       "      <th>gas_type</th>\n",
       "      <th>AC</th>\n",
       "      <th>rain</th>\n",
       "      <th>sun</th>\n",
       "      <th>refill liters</th>\n",
       "      <th>refill gas</th>\n",
       "    </tr>\n",
       "  </thead>\n",
       "  <tbody>\n",
       "    <tr>\n",
       "      <th>0</th>\n",
       "      <td>28</td>\n",
       "      <td>5</td>\n",
       "      <td>26</td>\n",
       "      <td>21.5</td>\n",
       "      <td>12</td>\n",
       "      <td>NaN</td>\n",
       "      <td>E10</td>\n",
       "      <td>0</td>\n",
       "      <td>0</td>\n",
       "      <td>0</td>\n",
       "      <td>45</td>\n",
       "      <td>E10</td>\n",
       "    </tr>\n",
       "    <tr>\n",
       "      <th>1</th>\n",
       "      <td>12</td>\n",
       "      <td>4.2</td>\n",
       "      <td>30</td>\n",
       "      <td>21.5</td>\n",
       "      <td>13</td>\n",
       "      <td>NaN</td>\n",
       "      <td>E10</td>\n",
       "      <td>0</td>\n",
       "      <td>0</td>\n",
       "      <td>0</td>\n",
       "      <td>NaN</td>\n",
       "      <td>NaN</td>\n",
       "    </tr>\n",
       "    <tr>\n",
       "      <th>2</th>\n",
       "      <td>11.2</td>\n",
       "      <td>5.5</td>\n",
       "      <td>38</td>\n",
       "      <td>21.5</td>\n",
       "      <td>15</td>\n",
       "      <td>NaN</td>\n",
       "      <td>E10</td>\n",
       "      <td>0</td>\n",
       "      <td>0</td>\n",
       "      <td>0</td>\n",
       "      <td>NaN</td>\n",
       "      <td>NaN</td>\n",
       "    </tr>\n",
       "    <tr>\n",
       "      <th>3</th>\n",
       "      <td>12.9</td>\n",
       "      <td>3.9</td>\n",
       "      <td>36</td>\n",
       "      <td>21.5</td>\n",
       "      <td>14</td>\n",
       "      <td>NaN</td>\n",
       "      <td>E10</td>\n",
       "      <td>0</td>\n",
       "      <td>0</td>\n",
       "      <td>0</td>\n",
       "      <td>NaN</td>\n",
       "      <td>NaN</td>\n",
       "    </tr>\n",
       "    <tr>\n",
       "      <th>4</th>\n",
       "      <td>18.5</td>\n",
       "      <td>4.5</td>\n",
       "      <td>46</td>\n",
       "      <td>21.5</td>\n",
       "      <td>15</td>\n",
       "      <td>NaN</td>\n",
       "      <td>E10</td>\n",
       "      <td>0</td>\n",
       "      <td>0</td>\n",
       "      <td>0</td>\n",
       "      <td>NaN</td>\n",
       "      <td>NaN</td>\n",
       "    </tr>\n",
       "    <tr>\n",
       "      <th>...</th>\n",
       "      <td>...</td>\n",
       "      <td>...</td>\n",
       "      <td>...</td>\n",
       "      <td>...</td>\n",
       "      <td>...</td>\n",
       "      <td>...</td>\n",
       "      <td>...</td>\n",
       "      <td>...</td>\n",
       "      <td>...</td>\n",
       "      <td>...</td>\n",
       "      <td>...</td>\n",
       "      <td>...</td>\n",
       "    </tr>\n",
       "    <tr>\n",
       "      <th>383</th>\n",
       "      <td>16</td>\n",
       "      <td>3.7</td>\n",
       "      <td>39</td>\n",
       "      <td>24.5</td>\n",
       "      <td>18</td>\n",
       "      <td>NaN</td>\n",
       "      <td>SP98</td>\n",
       "      <td>0</td>\n",
       "      <td>0</td>\n",
       "      <td>0</td>\n",
       "      <td>NaN</td>\n",
       "      <td>NaN</td>\n",
       "    </tr>\n",
       "    <tr>\n",
       "      <th>384</th>\n",
       "      <td>16.1</td>\n",
       "      <td>4.3</td>\n",
       "      <td>38</td>\n",
       "      <td>25</td>\n",
       "      <td>31</td>\n",
       "      <td>AC</td>\n",
       "      <td>SP98</td>\n",
       "      <td>1</td>\n",
       "      <td>0</td>\n",
       "      <td>0</td>\n",
       "      <td>NaN</td>\n",
       "      <td>NaN</td>\n",
       "    </tr>\n",
       "    <tr>\n",
       "      <th>385</th>\n",
       "      <td>16</td>\n",
       "      <td>3.8</td>\n",
       "      <td>45</td>\n",
       "      <td>25</td>\n",
       "      <td>19</td>\n",
       "      <td>NaN</td>\n",
       "      <td>SP98</td>\n",
       "      <td>0</td>\n",
       "      <td>0</td>\n",
       "      <td>0</td>\n",
       "      <td>NaN</td>\n",
       "      <td>NaN</td>\n",
       "    </tr>\n",
       "    <tr>\n",
       "      <th>386</th>\n",
       "      <td>15.4</td>\n",
       "      <td>4.6</td>\n",
       "      <td>42</td>\n",
       "      <td>25</td>\n",
       "      <td>31</td>\n",
       "      <td>AC</td>\n",
       "      <td>SP98</td>\n",
       "      <td>1</td>\n",
       "      <td>0</td>\n",
       "      <td>0</td>\n",
       "      <td>NaN</td>\n",
       "      <td>NaN</td>\n",
       "    </tr>\n",
       "    <tr>\n",
       "      <th>387</th>\n",
       "      <td>14.7</td>\n",
       "      <td>5</td>\n",
       "      <td>25</td>\n",
       "      <td>25</td>\n",
       "      <td>30</td>\n",
       "      <td>AC</td>\n",
       "      <td>SP98</td>\n",
       "      <td>1</td>\n",
       "      <td>0</td>\n",
       "      <td>0</td>\n",
       "      <td>NaN</td>\n",
       "      <td>NaN</td>\n",
       "    </tr>\n",
       "  </tbody>\n",
       "</table>\n",
       "<p>388 rows × 12 columns</p>\n",
       "</div>"
      ],
      "text/plain": [
       "    distance consume  speed temp_inside  temp_outside specials gas_type  AC  \\\n",
       "0         28       5     26        21.5            12      NaN      E10   0   \n",
       "1         12     4.2     30        21.5            13      NaN      E10   0   \n",
       "2       11.2     5.5     38        21.5            15      NaN      E10   0   \n",
       "3       12.9     3.9     36        21.5            14      NaN      E10   0   \n",
       "4       18.5     4.5     46        21.5            15      NaN      E10   0   \n",
       "..       ...     ...    ...         ...           ...      ...      ...  ..   \n",
       "383       16     3.7     39        24.5            18      NaN     SP98   0   \n",
       "384     16.1     4.3     38          25            31       AC     SP98   1   \n",
       "385       16     3.8     45          25            19      NaN     SP98   0   \n",
       "386     15.4     4.6     42          25            31       AC     SP98   1   \n",
       "387     14.7       5     25          25            30       AC     SP98   1   \n",
       "\n",
       "     rain  sun refill liters refill gas  \n",
       "0       0    0            45        E10  \n",
       "1       0    0           NaN        NaN  \n",
       "2       0    0           NaN        NaN  \n",
       "3       0    0           NaN        NaN  \n",
       "4       0    0           NaN        NaN  \n",
       "..    ...  ...           ...        ...  \n",
       "383     0    0           NaN        NaN  \n",
       "384     0    0           NaN        NaN  \n",
       "385     0    0           NaN        NaN  \n",
       "386     0    0           NaN        NaN  \n",
       "387     0    0           NaN        NaN  \n",
       "\n",
       "[388 rows x 12 columns]"
      ]
     },
     "execution_count": 10,
     "metadata": {},
     "output_type": "execute_result"
    }
   ],
   "source": [
    "csv"
   ]
  },
  {
   "cell_type": "code",
   "execution_count": 11,
   "id": "f1e5260c",
   "metadata": {},
   "outputs": [],
   "source": [
    "# Adapting dtypes\n",
    "\n",
    "numeric_column = ['distance', 'consume', 'temp_inside', 'refill liters']"
   ]
  },
  {
   "cell_type": "code",
   "execution_count": 12,
   "id": "646b564f",
   "metadata": {},
   "outputs": [],
   "source": [
    "for col in numeric_column:\n",
    "    csv[col] = pd.to_numeric(csv[col], errors='coerce')"
   ]
  },
  {
   "cell_type": "code",
   "execution_count": 13,
   "id": "ebdad4e0",
   "metadata": {},
   "outputs": [
    {
     "data": {
      "text/html": [
       "<div>\n",
       "<style scoped>\n",
       "    .dataframe tbody tr th:only-of-type {\n",
       "        vertical-align: middle;\n",
       "    }\n",
       "\n",
       "    .dataframe tbody tr th {\n",
       "        vertical-align: top;\n",
       "    }\n",
       "\n",
       "    .dataframe thead th {\n",
       "        text-align: right;\n",
       "    }\n",
       "</style>\n",
       "<table border=\"1\" class=\"dataframe\">\n",
       "  <thead>\n",
       "    <tr style=\"text-align: right;\">\n",
       "      <th></th>\n",
       "      <th>distance</th>\n",
       "      <th>consume</th>\n",
       "      <th>speed</th>\n",
       "      <th>temp_inside</th>\n",
       "      <th>temp_outside</th>\n",
       "      <th>specials</th>\n",
       "      <th>gas_type</th>\n",
       "      <th>AC</th>\n",
       "      <th>rain</th>\n",
       "      <th>sun</th>\n",
       "      <th>refill liters</th>\n",
       "      <th>refill gas</th>\n",
       "    </tr>\n",
       "  </thead>\n",
       "  <tbody>\n",
       "    <tr>\n",
       "      <th>0</th>\n",
       "      <td>28.0</td>\n",
       "      <td>5.0</td>\n",
       "      <td>26</td>\n",
       "      <td>21.5</td>\n",
       "      <td>12</td>\n",
       "      <td>NaN</td>\n",
       "      <td>E10</td>\n",
       "      <td>0</td>\n",
       "      <td>0</td>\n",
       "      <td>0</td>\n",
       "      <td>45.0</td>\n",
       "      <td>E10</td>\n",
       "    </tr>\n",
       "    <tr>\n",
       "      <th>1</th>\n",
       "      <td>12.0</td>\n",
       "      <td>4.2</td>\n",
       "      <td>30</td>\n",
       "      <td>21.5</td>\n",
       "      <td>13</td>\n",
       "      <td>NaN</td>\n",
       "      <td>E10</td>\n",
       "      <td>0</td>\n",
       "      <td>0</td>\n",
       "      <td>0</td>\n",
       "      <td>NaN</td>\n",
       "      <td>NaN</td>\n",
       "    </tr>\n",
       "    <tr>\n",
       "      <th>2</th>\n",
       "      <td>11.2</td>\n",
       "      <td>5.5</td>\n",
       "      <td>38</td>\n",
       "      <td>21.5</td>\n",
       "      <td>15</td>\n",
       "      <td>NaN</td>\n",
       "      <td>E10</td>\n",
       "      <td>0</td>\n",
       "      <td>0</td>\n",
       "      <td>0</td>\n",
       "      <td>NaN</td>\n",
       "      <td>NaN</td>\n",
       "    </tr>\n",
       "    <tr>\n",
       "      <th>3</th>\n",
       "      <td>12.9</td>\n",
       "      <td>3.9</td>\n",
       "      <td>36</td>\n",
       "      <td>21.5</td>\n",
       "      <td>14</td>\n",
       "      <td>NaN</td>\n",
       "      <td>E10</td>\n",
       "      <td>0</td>\n",
       "      <td>0</td>\n",
       "      <td>0</td>\n",
       "      <td>NaN</td>\n",
       "      <td>NaN</td>\n",
       "    </tr>\n",
       "    <tr>\n",
       "      <th>4</th>\n",
       "      <td>18.5</td>\n",
       "      <td>4.5</td>\n",
       "      <td>46</td>\n",
       "      <td>21.5</td>\n",
       "      <td>15</td>\n",
       "      <td>NaN</td>\n",
       "      <td>E10</td>\n",
       "      <td>0</td>\n",
       "      <td>0</td>\n",
       "      <td>0</td>\n",
       "      <td>NaN</td>\n",
       "      <td>NaN</td>\n",
       "    </tr>\n",
       "  </tbody>\n",
       "</table>\n",
       "</div>"
      ],
      "text/plain": [
       "   distance  consume  speed  temp_inside  temp_outside specials gas_type  AC  \\\n",
       "0      28.0      5.0     26         21.5            12      NaN      E10   0   \n",
       "1      12.0      4.2     30         21.5            13      NaN      E10   0   \n",
       "2      11.2      5.5     38         21.5            15      NaN      E10   0   \n",
       "3      12.9      3.9     36         21.5            14      NaN      E10   0   \n",
       "4      18.5      4.5     46         21.5            15      NaN      E10   0   \n",
       "\n",
       "   rain  sun  refill liters refill gas  \n",
       "0     0    0           45.0        E10  \n",
       "1     0    0            NaN        NaN  \n",
       "2     0    0            NaN        NaN  \n",
       "3     0    0            NaN        NaN  \n",
       "4     0    0            NaN        NaN  "
      ]
     },
     "execution_count": 13,
     "metadata": {},
     "output_type": "execute_result"
    }
   ],
   "source": [
    "csv.head()"
   ]
  },
  {
   "cell_type": "code",
   "execution_count": 14,
   "id": "1f750e2b",
   "metadata": {},
   "outputs": [
    {
     "name": "stdout",
     "output_type": "stream",
     "text": [
      "<class 'pandas.core.frame.DataFrame'>\n",
      "RangeIndex: 388 entries, 0 to 387\n",
      "Data columns (total 12 columns):\n",
      " #   Column         Non-Null Count  Dtype  \n",
      "---  ------         --------------  -----  \n",
      " 0   distance       388 non-null    float64\n",
      " 1   consume        388 non-null    float64\n",
      " 2   speed          388 non-null    int64  \n",
      " 3   temp_inside    376 non-null    float64\n",
      " 4   temp_outside   388 non-null    int64  \n",
      " 5   specials       93 non-null     object \n",
      " 6   gas_type       388 non-null    object \n",
      " 7   AC             388 non-null    int64  \n",
      " 8   rain           388 non-null    int64  \n",
      " 9   sun            388 non-null    int64  \n",
      " 10  refill liters  13 non-null     float64\n",
      " 11  refill gas     13 non-null     object \n",
      "dtypes: float64(4), int64(5), object(3)\n",
      "memory usage: 36.5+ KB\n"
     ]
    }
   ],
   "source": [
    "# Correct dtypes\n",
    "\n",
    "csv.info()"
   ]
  },
  {
   "cell_type": "code",
   "execution_count": 15,
   "id": "b7ab20cd",
   "metadata": {},
   "outputs": [],
   "source": [
    "# Excel"
   ]
  },
  {
   "cell_type": "code",
   "execution_count": 16,
   "id": "cbe4375d",
   "metadata": {},
   "outputs": [
    {
     "data": {
      "text/html": [
       "<div>\n",
       "<style scoped>\n",
       "    .dataframe tbody tr th:only-of-type {\n",
       "        vertical-align: middle;\n",
       "    }\n",
       "\n",
       "    .dataframe tbody tr th {\n",
       "        vertical-align: top;\n",
       "    }\n",
       "\n",
       "    .dataframe thead th {\n",
       "        text-align: right;\n",
       "    }\n",
       "</style>\n",
       "<table border=\"1\" class=\"dataframe\">\n",
       "  <thead>\n",
       "    <tr style=\"text-align: right;\">\n",
       "      <th></th>\n",
       "      <th>distance</th>\n",
       "      <th>consume</th>\n",
       "      <th>speed</th>\n",
       "      <th>temp_inside</th>\n",
       "      <th>temp_outside</th>\n",
       "      <th>specials</th>\n",
       "      <th>gas_type</th>\n",
       "      <th>AC</th>\n",
       "      <th>rain</th>\n",
       "      <th>sun</th>\n",
       "      <th>refill liters</th>\n",
       "      <th>refill gas</th>\n",
       "    </tr>\n",
       "  </thead>\n",
       "  <tbody>\n",
       "    <tr>\n",
       "      <th>0</th>\n",
       "      <td>28.0</td>\n",
       "      <td>5.0</td>\n",
       "      <td>26</td>\n",
       "      <td>21.5</td>\n",
       "      <td>12</td>\n",
       "      <td>NaN</td>\n",
       "      <td>E10</td>\n",
       "      <td>0</td>\n",
       "      <td>0</td>\n",
       "      <td>0</td>\n",
       "      <td>45.0</td>\n",
       "      <td>E10</td>\n",
       "    </tr>\n",
       "    <tr>\n",
       "      <th>1</th>\n",
       "      <td>12.0</td>\n",
       "      <td>4.2</td>\n",
       "      <td>30</td>\n",
       "      <td>21.5</td>\n",
       "      <td>13</td>\n",
       "      <td>NaN</td>\n",
       "      <td>E10</td>\n",
       "      <td>0</td>\n",
       "      <td>0</td>\n",
       "      <td>0</td>\n",
       "      <td>NaN</td>\n",
       "      <td>NaN</td>\n",
       "    </tr>\n",
       "    <tr>\n",
       "      <th>2</th>\n",
       "      <td>11.2</td>\n",
       "      <td>5.5</td>\n",
       "      <td>38</td>\n",
       "      <td>21.5</td>\n",
       "      <td>15</td>\n",
       "      <td>NaN</td>\n",
       "      <td>E10</td>\n",
       "      <td>0</td>\n",
       "      <td>0</td>\n",
       "      <td>0</td>\n",
       "      <td>NaN</td>\n",
       "      <td>NaN</td>\n",
       "    </tr>\n",
       "    <tr>\n",
       "      <th>3</th>\n",
       "      <td>12.9</td>\n",
       "      <td>3.9</td>\n",
       "      <td>36</td>\n",
       "      <td>21.5</td>\n",
       "      <td>14</td>\n",
       "      <td>NaN</td>\n",
       "      <td>E10</td>\n",
       "      <td>0</td>\n",
       "      <td>0</td>\n",
       "      <td>0</td>\n",
       "      <td>NaN</td>\n",
       "      <td>NaN</td>\n",
       "    </tr>\n",
       "    <tr>\n",
       "      <th>4</th>\n",
       "      <td>18.5</td>\n",
       "      <td>4.5</td>\n",
       "      <td>46</td>\n",
       "      <td>21.5</td>\n",
       "      <td>15</td>\n",
       "      <td>NaN</td>\n",
       "      <td>E10</td>\n",
       "      <td>0</td>\n",
       "      <td>0</td>\n",
       "      <td>0</td>\n",
       "      <td>NaN</td>\n",
       "      <td>NaN</td>\n",
       "    </tr>\n",
       "  </tbody>\n",
       "</table>\n",
       "</div>"
      ],
      "text/plain": [
       "   distance  consume  speed  temp_inside  temp_outside specials gas_type  AC  \\\n",
       "0      28.0      5.0     26         21.5            12      NaN      E10   0   \n",
       "1      12.0      4.2     30         21.5            13      NaN      E10   0   \n",
       "2      11.2      5.5     38         21.5            15      NaN      E10   0   \n",
       "3      12.9      3.9     36         21.5            14      NaN      E10   0   \n",
       "4      18.5      4.5     46         21.5            15      NaN      E10   0   \n",
       "\n",
       "   rain  sun  refill liters refill gas  \n",
       "0     0    0           45.0        E10  \n",
       "1     0    0            NaN        NaN  \n",
       "2     0    0            NaN        NaN  \n",
       "3     0    0            NaN        NaN  \n",
       "4     0    0            NaN        NaN  "
      ]
     },
     "execution_count": 16,
     "metadata": {},
     "output_type": "execute_result"
    }
   ],
   "source": [
    "excel.head()"
   ]
  },
  {
   "cell_type": "code",
   "execution_count": 17,
   "id": "54dd2c11",
   "metadata": {},
   "outputs": [
    {
     "data": {
      "text/plain": [
       "(388, 12)"
      ]
     },
     "execution_count": 17,
     "metadata": {},
     "output_type": "execute_result"
    }
   ],
   "source": [
    "excel.shape"
   ]
  },
  {
   "cell_type": "code",
   "execution_count": 18,
   "id": "d0ca4538",
   "metadata": {},
   "outputs": [
    {
     "name": "stdout",
     "output_type": "stream",
     "text": [
      "<class 'pandas.core.frame.DataFrame'>\n",
      "RangeIndex: 388 entries, 0 to 387\n",
      "Data columns (total 12 columns):\n",
      " #   Column         Non-Null Count  Dtype  \n",
      "---  ------         --------------  -----  \n",
      " 0   distance       388 non-null    float64\n",
      " 1   consume        388 non-null    float64\n",
      " 2   speed          388 non-null    int64  \n",
      " 3   temp_inside    376 non-null    float64\n",
      " 4   temp_outside   388 non-null    int64  \n",
      " 5   specials       93 non-null     object \n",
      " 6   gas_type       388 non-null    object \n",
      " 7   AC             388 non-null    int64  \n",
      " 8   rain           388 non-null    int64  \n",
      " 9   sun            388 non-null    int64  \n",
      " 10  refill liters  13 non-null     float64\n",
      " 11  refill gas     13 non-null     object \n",
      "dtypes: float64(4), int64(5), object(3)\n",
      "memory usage: 36.5+ KB\n"
     ]
    }
   ],
   "source": [
    "excel.info()"
   ]
  },
  {
   "cell_type": "code",
   "execution_count": 19,
   "id": "6159f3b8",
   "metadata": {},
   "outputs": [],
   "source": [
    "# Excel provide a more structured representation of data and data types compared to CSV. "
   ]
  },
  {
   "cell_type": "markdown",
   "id": "3231f39b",
   "metadata": {},
   "source": [
    "--------------"
   ]
  },
  {
   "cell_type": "code",
   "execution_count": 20,
   "id": "d45b1941",
   "metadata": {},
   "outputs": [],
   "source": [
    "# Checking if both dfs contain the same info\n",
    "\n",
    "data = pd.concat([csv,excel],axis = 0)"
   ]
  },
  {
   "cell_type": "code",
   "execution_count": 21,
   "id": "977a37aa",
   "metadata": {},
   "outputs": [
    {
     "data": {
      "text/plain": [
       "(776, 12)"
      ]
     },
     "execution_count": 21,
     "metadata": {},
     "output_type": "execute_result"
    }
   ],
   "source": [
    "data.shape"
   ]
  },
  {
   "cell_type": "code",
   "execution_count": 22,
   "id": "4718421d",
   "metadata": {
    "scrolled": true
   },
   "outputs": [
    {
     "name": "stdout",
     "output_type": "stream",
     "text": [
      "<class 'pandas.core.frame.DataFrame'>\n",
      "Index: 776 entries, 0 to 387\n",
      "Data columns (total 12 columns):\n",
      " #   Column         Non-Null Count  Dtype  \n",
      "---  ------         --------------  -----  \n",
      " 0   distance       776 non-null    float64\n",
      " 1   consume        776 non-null    float64\n",
      " 2   speed          776 non-null    int64  \n",
      " 3   temp_inside    752 non-null    float64\n",
      " 4   temp_outside   776 non-null    int64  \n",
      " 5   specials       186 non-null    object \n",
      " 6   gas_type       776 non-null    object \n",
      " 7   AC             776 non-null    int64  \n",
      " 8   rain           776 non-null    int64  \n",
      " 9   sun            776 non-null    int64  \n",
      " 10  refill liters  26 non-null     float64\n",
      " 11  refill gas     26 non-null     object \n",
      "dtypes: float64(4), int64(5), object(3)\n",
      "memory usage: 78.8+ KB\n"
     ]
    }
   ],
   "source": [
    "data.info()"
   ]
  },
  {
   "cell_type": "code",
   "execution_count": 23,
   "id": "aee789b0",
   "metadata": {},
   "outputs": [
    {
     "data": {
      "text/plain": [
       "388"
      ]
     },
     "execution_count": 23,
     "metadata": {},
     "output_type": "execute_result"
    }
   ],
   "source": [
    "data.duplicated().sum()"
   ]
  },
  {
   "cell_type": "code",
   "execution_count": 24,
   "id": "0e9fd1cf",
   "metadata": {},
   "outputs": [
    {
     "data": {
      "text/plain": [
       "388"
      ]
     },
     "execution_count": 24,
     "metadata": {},
     "output_type": "execute_result"
    }
   ],
   "source": [
    "len(data.drop_duplicates())"
   ]
  },
  {
   "cell_type": "code",
   "execution_count": 25,
   "id": "01e22afd",
   "metadata": {},
   "outputs": [],
   "source": [
    "# Since we have 388 duplicated, it shows us that both dfs are the same.\n",
    "\n",
    "# We will use the excel one."
   ]
  },
  {
   "cell_type": "markdown",
   "id": "5d18fa7a",
   "metadata": {},
   "source": [
    "----------------------"
   ]
  },
  {
   "cell_type": "code",
   "execution_count": 26,
   "id": "2b34fa52",
   "metadata": {},
   "outputs": [],
   "source": [
    "# Get to know the domain"
   ]
  },
  {
   "cell_type": "code",
   "execution_count": 27,
   "id": "43ed9931",
   "metadata": {},
   "outputs": [],
   "source": [
    "# Understanding the domain:\n",
    "\n",
    "# Distance: \n",
    "\n",
    "# Distance traveled for a specific journey in kilometers.\n",
    "# Crucial for understanding fuel consumption over varying distances.\n",
    "\n",
    "# Consume:\n",
    "\n",
    "# Fuel consumption in liters per 100 kilometers for the corresponding journey.\n",
    "\n",
    "# The primary target variable for analysis, determining the efficiency of the car for different conditions.\n",
    "\n",
    "# Speed:\n",
    "\n",
    "# Average speed during the journey in km/h.\n",
    "\n",
    "# Speed influences fuel consumption due to aerodynamics and engine efficiency.\n",
    "\n",
    "# Temp Inside & Temp Outside:\n",
    "\n",
    "# Internal and external temperatures during the journey in degrees Celsius.\n",
    "\n",
    "# External temperature can affect engine warm-up time and fuel efficiency.\n",
    "\n",
    "# Specials:\n",
    "\n",
    "# A column containing  only 23% with value, the rest NaN.\n",
    "\n",
    "# Likely includes special conditions during the journey (e.g., traffic, road closures), \n",
    "# but mostly missing data in this sample.\n",
    "\n",
    "# Gas Type:\n",
    "\n",
    "# The type of fuel used for the journey.\n",
    "\n",
    "# Different fuel types have varying energy densities and can affect fuel efficiency differently.\n",
    "\n",
    "# AC, Rain, Sun:\n",
    "\n",
    "# Binary indicators (0 or 1) for AC usage, rain presence, and sunlight during the journey.\n",
    "\n",
    "# These factors can influence fuel consumption.\n",
    "\n",
    "# Refill Liters & Refill Gas:\n",
    "\n",
    "# Columns containing mostly NaN.\n",
    "\n",
    "# Possibly related to refilling fuel during or after the journey, but mostly missing in this df."
   ]
  },
  {
   "cell_type": "markdown",
   "id": "137c439a",
   "metadata": {},
   "source": [
    "-------------"
   ]
  },
  {
   "cell_type": "code",
   "execution_count": 28,
   "id": "65805751",
   "metadata": {},
   "outputs": [],
   "source": [
    "# Exploring data"
   ]
  },
  {
   "cell_type": "code",
   "execution_count": 29,
   "id": "30bad993",
   "metadata": {},
   "outputs": [
    {
     "data": {
      "text/html": [
       "<div>\n",
       "<style scoped>\n",
       "    .dataframe tbody tr th:only-of-type {\n",
       "        vertical-align: middle;\n",
       "    }\n",
       "\n",
       "    .dataframe tbody tr th {\n",
       "        vertical-align: top;\n",
       "    }\n",
       "\n",
       "    .dataframe thead th {\n",
       "        text-align: right;\n",
       "    }\n",
       "</style>\n",
       "<table border=\"1\" class=\"dataframe\">\n",
       "  <thead>\n",
       "    <tr style=\"text-align: right;\">\n",
       "      <th></th>\n",
       "      <th>distance</th>\n",
       "      <th>consume</th>\n",
       "      <th>speed</th>\n",
       "      <th>temp_inside</th>\n",
       "      <th>temp_outside</th>\n",
       "      <th>specials</th>\n",
       "      <th>gas_type</th>\n",
       "      <th>ac</th>\n",
       "      <th>rain</th>\n",
       "      <th>sun</th>\n",
       "      <th>refill_liters</th>\n",
       "      <th>refill_gas</th>\n",
       "    </tr>\n",
       "  </thead>\n",
       "  <tbody>\n",
       "    <tr>\n",
       "      <th>0</th>\n",
       "      <td>28.0</td>\n",
       "      <td>5.0</td>\n",
       "      <td>26</td>\n",
       "      <td>21.5</td>\n",
       "      <td>12</td>\n",
       "      <td>NaN</td>\n",
       "      <td>E10</td>\n",
       "      <td>0</td>\n",
       "      <td>0</td>\n",
       "      <td>0</td>\n",
       "      <td>45.0</td>\n",
       "      <td>E10</td>\n",
       "    </tr>\n",
       "    <tr>\n",
       "      <th>1</th>\n",
       "      <td>12.0</td>\n",
       "      <td>4.2</td>\n",
       "      <td>30</td>\n",
       "      <td>21.5</td>\n",
       "      <td>13</td>\n",
       "      <td>NaN</td>\n",
       "      <td>E10</td>\n",
       "      <td>0</td>\n",
       "      <td>0</td>\n",
       "      <td>0</td>\n",
       "      <td>NaN</td>\n",
       "      <td>NaN</td>\n",
       "    </tr>\n",
       "    <tr>\n",
       "      <th>2</th>\n",
       "      <td>11.2</td>\n",
       "      <td>5.5</td>\n",
       "      <td>38</td>\n",
       "      <td>21.5</td>\n",
       "      <td>15</td>\n",
       "      <td>NaN</td>\n",
       "      <td>E10</td>\n",
       "      <td>0</td>\n",
       "      <td>0</td>\n",
       "      <td>0</td>\n",
       "      <td>NaN</td>\n",
       "      <td>NaN</td>\n",
       "    </tr>\n",
       "    <tr>\n",
       "      <th>3</th>\n",
       "      <td>12.9</td>\n",
       "      <td>3.9</td>\n",
       "      <td>36</td>\n",
       "      <td>21.5</td>\n",
       "      <td>14</td>\n",
       "      <td>NaN</td>\n",
       "      <td>E10</td>\n",
       "      <td>0</td>\n",
       "      <td>0</td>\n",
       "      <td>0</td>\n",
       "      <td>NaN</td>\n",
       "      <td>NaN</td>\n",
       "    </tr>\n",
       "    <tr>\n",
       "      <th>4</th>\n",
       "      <td>18.5</td>\n",
       "      <td>4.5</td>\n",
       "      <td>46</td>\n",
       "      <td>21.5</td>\n",
       "      <td>15</td>\n",
       "      <td>NaN</td>\n",
       "      <td>E10</td>\n",
       "      <td>0</td>\n",
       "      <td>0</td>\n",
       "      <td>0</td>\n",
       "      <td>NaN</td>\n",
       "      <td>NaN</td>\n",
       "    </tr>\n",
       "  </tbody>\n",
       "</table>\n",
       "</div>"
      ],
      "text/plain": [
       "   distance  consume  speed  temp_inside  temp_outside specials gas_type  ac  \\\n",
       "0      28.0      5.0     26         21.5            12      NaN      E10   0   \n",
       "1      12.0      4.2     30         21.5            13      NaN      E10   0   \n",
       "2      11.2      5.5     38         21.5            15      NaN      E10   0   \n",
       "3      12.9      3.9     36         21.5            14      NaN      E10   0   \n",
       "4      18.5      4.5     46         21.5            15      NaN      E10   0   \n",
       "\n",
       "   rain  sun  refill_liters refill_gas  \n",
       "0     0    0           45.0        E10  \n",
       "1     0    0            NaN        NaN  \n",
       "2     0    0            NaN        NaN  \n",
       "3     0    0            NaN        NaN  \n",
       "4     0    0            NaN        NaN  "
      ]
     },
     "execution_count": 29,
     "metadata": {},
     "output_type": "execute_result"
    }
   ],
   "source": [
    "# Renaming columns so they follow the PE8 (snake case) - (lower_case_with_underscores)\n",
    "\n",
    "cols=[]\n",
    "for i in range(len(excel.columns)):\n",
    "    cols.append(excel.columns[i].lower().replace('-', '').replace(' ', '_'))\n",
    "excel.columns=cols\n",
    "\n",
    "excel.head()"
   ]
  },
  {
   "cell_type": "code",
   "execution_count": 30,
   "id": "2037c3b8",
   "metadata": {},
   "outputs": [
    {
     "data": {
      "text/plain": [
       "distance           0\n",
       "consume            0\n",
       "speed              0\n",
       "temp_inside       12\n",
       "temp_outside       0\n",
       "specials         295\n",
       "gas_type           0\n",
       "ac                 0\n",
       "rain               0\n",
       "sun                0\n",
       "refill_liters    375\n",
       "refill_gas       375\n",
       "dtype: int64"
      ]
     },
     "execution_count": 30,
     "metadata": {},
     "output_type": "execute_result"
    }
   ],
   "source": [
    "# Checking for NaN\n",
    "\n",
    "excel.isna().sum()"
   ]
  },
  {
   "cell_type": "code",
   "execution_count": 31,
   "id": "64f91987",
   "metadata": {},
   "outputs": [
    {
     "data": {
      "text/plain": [
       "1057"
      ]
     },
     "execution_count": 31,
     "metadata": {},
     "output_type": "execute_result"
    }
   ],
   "source": [
    "excel.isna().sum().sum()"
   ]
  },
  {
   "cell_type": "code",
   "execution_count": 32,
   "id": "3a669f10",
   "metadata": {},
   "outputs": [],
   "source": [
    "# Splitting into numerical\n",
    "\n",
    "numerical = excel.select_dtypes(np.number)"
   ]
  },
  {
   "cell_type": "code",
   "execution_count": 33,
   "id": "374e580f",
   "metadata": {
    "scrolled": true
   },
   "outputs": [
    {
     "data": {
      "text/html": [
       "<div>\n",
       "<style scoped>\n",
       "    .dataframe tbody tr th:only-of-type {\n",
       "        vertical-align: middle;\n",
       "    }\n",
       "\n",
       "    .dataframe tbody tr th {\n",
       "        vertical-align: top;\n",
       "    }\n",
       "\n",
       "    .dataframe thead th {\n",
       "        text-align: right;\n",
       "    }\n",
       "</style>\n",
       "<table border=\"1\" class=\"dataframe\">\n",
       "  <thead>\n",
       "    <tr style=\"text-align: right;\">\n",
       "      <th></th>\n",
       "      <th>distance</th>\n",
       "      <th>consume</th>\n",
       "      <th>speed</th>\n",
       "      <th>temp_inside</th>\n",
       "      <th>temp_outside</th>\n",
       "      <th>ac</th>\n",
       "      <th>rain</th>\n",
       "      <th>sun</th>\n",
       "      <th>refill_liters</th>\n",
       "    </tr>\n",
       "  </thead>\n",
       "  <tbody>\n",
       "    <tr>\n",
       "      <th>0</th>\n",
       "      <td>28.0</td>\n",
       "      <td>5.0</td>\n",
       "      <td>26</td>\n",
       "      <td>21.5</td>\n",
       "      <td>12</td>\n",
       "      <td>0</td>\n",
       "      <td>0</td>\n",
       "      <td>0</td>\n",
       "      <td>45.0</td>\n",
       "    </tr>\n",
       "    <tr>\n",
       "      <th>1</th>\n",
       "      <td>12.0</td>\n",
       "      <td>4.2</td>\n",
       "      <td>30</td>\n",
       "      <td>21.5</td>\n",
       "      <td>13</td>\n",
       "      <td>0</td>\n",
       "      <td>0</td>\n",
       "      <td>0</td>\n",
       "      <td>NaN</td>\n",
       "    </tr>\n",
       "    <tr>\n",
       "      <th>2</th>\n",
       "      <td>11.2</td>\n",
       "      <td>5.5</td>\n",
       "      <td>38</td>\n",
       "      <td>21.5</td>\n",
       "      <td>15</td>\n",
       "      <td>0</td>\n",
       "      <td>0</td>\n",
       "      <td>0</td>\n",
       "      <td>NaN</td>\n",
       "    </tr>\n",
       "    <tr>\n",
       "      <th>3</th>\n",
       "      <td>12.9</td>\n",
       "      <td>3.9</td>\n",
       "      <td>36</td>\n",
       "      <td>21.5</td>\n",
       "      <td>14</td>\n",
       "      <td>0</td>\n",
       "      <td>0</td>\n",
       "      <td>0</td>\n",
       "      <td>NaN</td>\n",
       "    </tr>\n",
       "    <tr>\n",
       "      <th>4</th>\n",
       "      <td>18.5</td>\n",
       "      <td>4.5</td>\n",
       "      <td>46</td>\n",
       "      <td>21.5</td>\n",
       "      <td>15</td>\n",
       "      <td>0</td>\n",
       "      <td>0</td>\n",
       "      <td>0</td>\n",
       "      <td>NaN</td>\n",
       "    </tr>\n",
       "  </tbody>\n",
       "</table>\n",
       "</div>"
      ],
      "text/plain": [
       "   distance  consume  speed  temp_inside  temp_outside  ac  rain  sun  \\\n",
       "0      28.0      5.0     26         21.5            12   0     0    0   \n",
       "1      12.0      4.2     30         21.5            13   0     0    0   \n",
       "2      11.2      5.5     38         21.5            15   0     0    0   \n",
       "3      12.9      3.9     36         21.5            14   0     0    0   \n",
       "4      18.5      4.5     46         21.5            15   0     0    0   \n",
       "\n",
       "   refill_liters  \n",
       "0           45.0  \n",
       "1            NaN  \n",
       "2            NaN  \n",
       "3            NaN  \n",
       "4            NaN  "
      ]
     },
     "metadata": {},
     "output_type": "display_data"
    },
    {
     "data": {
      "text/plain": [
       "(388, 9)"
      ]
     },
     "execution_count": 33,
     "metadata": {},
     "output_type": "execute_result"
    }
   ],
   "source": [
    "display(numerical.head())\n",
    "\n",
    "numerical.shape"
   ]
  },
  {
   "cell_type": "code",
   "execution_count": 34,
   "id": "7fa490af",
   "metadata": {},
   "outputs": [
    {
     "data": {
      "text/plain": [
       "distance           0\n",
       "consume            0\n",
       "speed              0\n",
       "temp_inside       12\n",
       "temp_outside       0\n",
       "ac                 0\n",
       "rain               0\n",
       "sun                0\n",
       "refill_liters    375\n",
       "dtype: int64"
      ]
     },
     "execution_count": 34,
     "metadata": {},
     "output_type": "execute_result"
    }
   ],
   "source": [
    "numerical.isna().sum()"
   ]
  },
  {
   "cell_type": "code",
   "execution_count": 35,
   "id": "ef2ae282",
   "metadata": {},
   "outputs": [
    {
     "data": {
      "text/plain": [
       "distance          0.000000\n",
       "consume           0.000000\n",
       "speed             0.000000\n",
       "temp_inside       3.092784\n",
       "temp_outside      0.000000\n",
       "ac                0.000000\n",
       "rain              0.000000\n",
       "sun               0.000000\n",
       "refill_liters    96.649485\n",
       "dtype: float64"
      ]
     },
     "execution_count": 35,
     "metadata": {},
     "output_type": "execute_result"
    }
   ],
   "source": [
    "numerical.isna().sum()/len(numerical)*100"
   ]
  },
  {
   "cell_type": "code",
   "execution_count": 36,
   "id": "9c91f6bf",
   "metadata": {},
   "outputs": [
    {
     "data": {
      "text/plain": [
       "temp_inside\n",
       "21.5    133\n",
       "22.0    102\n",
       "22.5     59\n",
       "20.0     25\n",
       "21.0     13\n",
       "23.0     13\n",
       "25.0     12\n",
       "24.5      7\n",
       "20.5      4\n",
       "24.0      3\n",
       "23.5      2\n",
       "25.5      2\n",
       "19.0      1\n",
       "Name: count, dtype: int64"
      ]
     },
     "execution_count": 36,
     "metadata": {},
     "output_type": "execute_result"
    }
   ],
   "source": [
    "# Temp_inside \n",
    "\n",
    "numerical.temp_inside.value_counts()"
   ]
  },
  {
   "cell_type": "code",
   "execution_count": 37,
   "id": "d67f2c22",
   "metadata": {},
   "outputs": [
    {
     "data": {
      "text/plain": [
       "21.929521276595743"
      ]
     },
     "execution_count": 37,
     "metadata": {},
     "output_type": "execute_result"
    }
   ],
   "source": [
    "numerical.temp_inside.mean()"
   ]
  },
  {
   "cell_type": "code",
   "execution_count": 38,
   "id": "ff969c50",
   "metadata": {},
   "outputs": [
    {
     "data": {
      "text/plain": [
       "22.0"
      ]
     },
     "execution_count": 38,
     "metadata": {},
     "output_type": "execute_result"
    }
   ],
   "source": [
    "numerical.temp_inside.median()"
   ]
  },
  {
   "cell_type": "code",
   "execution_count": 39,
   "id": "c06cd5cf",
   "metadata": {},
   "outputs": [
    {
     "data": {
      "text/html": [
       "<div>\n",
       "<style scoped>\n",
       "    .dataframe tbody tr th:only-of-type {\n",
       "        vertical-align: middle;\n",
       "    }\n",
       "\n",
       "    .dataframe tbody tr th {\n",
       "        vertical-align: top;\n",
       "    }\n",
       "\n",
       "    .dataframe thead th {\n",
       "        text-align: right;\n",
       "    }\n",
       "</style>\n",
       "<table border=\"1\" class=\"dataframe\">\n",
       "  <thead>\n",
       "    <tr style=\"text-align: right;\">\n",
       "      <th></th>\n",
       "      <th>distance</th>\n",
       "      <th>consume</th>\n",
       "      <th>speed</th>\n",
       "      <th>temp_inside</th>\n",
       "      <th>temp_outside</th>\n",
       "      <th>ac</th>\n",
       "      <th>rain</th>\n",
       "      <th>sun</th>\n",
       "      <th>refill_liters</th>\n",
       "    </tr>\n",
       "  </thead>\n",
       "  <tbody>\n",
       "    <tr>\n",
       "      <th>0</th>\n",
       "      <td>28.0</td>\n",
       "      <td>5.0</td>\n",
       "      <td>26</td>\n",
       "      <td>21.5</td>\n",
       "      <td>12</td>\n",
       "      <td>0</td>\n",
       "      <td>0</td>\n",
       "      <td>0</td>\n",
       "      <td>45.0</td>\n",
       "    </tr>\n",
       "    <tr>\n",
       "      <th>1</th>\n",
       "      <td>12.0</td>\n",
       "      <td>4.2</td>\n",
       "      <td>30</td>\n",
       "      <td>21.5</td>\n",
       "      <td>13</td>\n",
       "      <td>0</td>\n",
       "      <td>0</td>\n",
       "      <td>0</td>\n",
       "      <td>NaN</td>\n",
       "    </tr>\n",
       "    <tr>\n",
       "      <th>2</th>\n",
       "      <td>11.2</td>\n",
       "      <td>5.5</td>\n",
       "      <td>38</td>\n",
       "      <td>21.5</td>\n",
       "      <td>15</td>\n",
       "      <td>0</td>\n",
       "      <td>0</td>\n",
       "      <td>0</td>\n",
       "      <td>NaN</td>\n",
       "    </tr>\n",
       "    <tr>\n",
       "      <th>3</th>\n",
       "      <td>12.9</td>\n",
       "      <td>3.9</td>\n",
       "      <td>36</td>\n",
       "      <td>21.5</td>\n",
       "      <td>14</td>\n",
       "      <td>0</td>\n",
       "      <td>0</td>\n",
       "      <td>0</td>\n",
       "      <td>NaN</td>\n",
       "    </tr>\n",
       "    <tr>\n",
       "      <th>4</th>\n",
       "      <td>18.5</td>\n",
       "      <td>4.5</td>\n",
       "      <td>46</td>\n",
       "      <td>21.5</td>\n",
       "      <td>15</td>\n",
       "      <td>0</td>\n",
       "      <td>0</td>\n",
       "      <td>0</td>\n",
       "      <td>NaN</td>\n",
       "    </tr>\n",
       "  </tbody>\n",
       "</table>\n",
       "</div>"
      ],
      "text/plain": [
       "   distance  consume  speed  temp_inside  temp_outside  ac  rain  sun  \\\n",
       "0      28.0      5.0     26         21.5            12   0     0    0   \n",
       "1      12.0      4.2     30         21.5            13   0     0    0   \n",
       "2      11.2      5.5     38         21.5            15   0     0    0   \n",
       "3      12.9      3.9     36         21.5            14   0     0    0   \n",
       "4      18.5      4.5     46         21.5            15   0     0    0   \n",
       "\n",
       "   refill_liters  \n",
       "0           45.0  \n",
       "1            NaN  \n",
       "2            NaN  \n",
       "3            NaN  \n",
       "4            NaN  "
      ]
     },
     "execution_count": 39,
     "metadata": {},
     "output_type": "execute_result"
    }
   ],
   "source": [
    "# Filling temp_inside with median\n",
    "\n",
    "numerical['temp_inside'].fillna(numerical.temp_inside.median(), inplace=True)\n",
    "\n",
    "numerical.head()"
   ]
  },
  {
   "cell_type": "code",
   "execution_count": 40,
   "id": "35684327",
   "metadata": {},
   "outputs": [
    {
     "data": {
      "text/plain": [
       "refill_liters\n",
       "45.0    2\n",
       "37.7    2\n",
       "39.0    2\n",
       "37.6    1\n",
       "38.0    1\n",
       "38.3    1\n",
       "10.0    1\n",
       "41.0    1\n",
       "37.0    1\n",
       "37.2    1\n",
       "Name: count, dtype: int64"
      ]
     },
     "execution_count": 40,
     "metadata": {},
     "output_type": "execute_result"
    }
   ],
   "source": [
    "# Refill_liters (97% NaN). Let's drop it.\n",
    "\n",
    "numerical.refill_liters.value_counts()"
   ]
  },
  {
   "cell_type": "code",
   "execution_count": 41,
   "id": "53f9d5ce",
   "metadata": {
    "scrolled": true
   },
   "outputs": [],
   "source": [
    "numerical = numerical.drop('refill_liters', axis=1)"
   ]
  },
  {
   "cell_type": "code",
   "execution_count": 42,
   "id": "814be481",
   "metadata": {},
   "outputs": [
    {
     "data": {
      "text/html": [
       "<div>\n",
       "<style scoped>\n",
       "    .dataframe tbody tr th:only-of-type {\n",
       "        vertical-align: middle;\n",
       "    }\n",
       "\n",
       "    .dataframe tbody tr th {\n",
       "        vertical-align: top;\n",
       "    }\n",
       "\n",
       "    .dataframe thead th {\n",
       "        text-align: right;\n",
       "    }\n",
       "</style>\n",
       "<table border=\"1\" class=\"dataframe\">\n",
       "  <thead>\n",
       "    <tr style=\"text-align: right;\">\n",
       "      <th></th>\n",
       "      <th>distance</th>\n",
       "      <th>consume</th>\n",
       "      <th>speed</th>\n",
       "      <th>temp_inside</th>\n",
       "      <th>temp_outside</th>\n",
       "      <th>ac</th>\n",
       "      <th>rain</th>\n",
       "      <th>sun</th>\n",
       "    </tr>\n",
       "  </thead>\n",
       "  <tbody>\n",
       "    <tr>\n",
       "      <th>0</th>\n",
       "      <td>28.0</td>\n",
       "      <td>5.0</td>\n",
       "      <td>26</td>\n",
       "      <td>21.5</td>\n",
       "      <td>12</td>\n",
       "      <td>0</td>\n",
       "      <td>0</td>\n",
       "      <td>0</td>\n",
       "    </tr>\n",
       "    <tr>\n",
       "      <th>1</th>\n",
       "      <td>12.0</td>\n",
       "      <td>4.2</td>\n",
       "      <td>30</td>\n",
       "      <td>21.5</td>\n",
       "      <td>13</td>\n",
       "      <td>0</td>\n",
       "      <td>0</td>\n",
       "      <td>0</td>\n",
       "    </tr>\n",
       "    <tr>\n",
       "      <th>2</th>\n",
       "      <td>11.2</td>\n",
       "      <td>5.5</td>\n",
       "      <td>38</td>\n",
       "      <td>21.5</td>\n",
       "      <td>15</td>\n",
       "      <td>0</td>\n",
       "      <td>0</td>\n",
       "      <td>0</td>\n",
       "    </tr>\n",
       "    <tr>\n",
       "      <th>3</th>\n",
       "      <td>12.9</td>\n",
       "      <td>3.9</td>\n",
       "      <td>36</td>\n",
       "      <td>21.5</td>\n",
       "      <td>14</td>\n",
       "      <td>0</td>\n",
       "      <td>0</td>\n",
       "      <td>0</td>\n",
       "    </tr>\n",
       "    <tr>\n",
       "      <th>4</th>\n",
       "      <td>18.5</td>\n",
       "      <td>4.5</td>\n",
       "      <td>46</td>\n",
       "      <td>21.5</td>\n",
       "      <td>15</td>\n",
       "      <td>0</td>\n",
       "      <td>0</td>\n",
       "      <td>0</td>\n",
       "    </tr>\n",
       "  </tbody>\n",
       "</table>\n",
       "</div>"
      ],
      "text/plain": [
       "   distance  consume  speed  temp_inside  temp_outside  ac  rain  sun\n",
       "0      28.0      5.0     26         21.5            12   0     0    0\n",
       "1      12.0      4.2     30         21.5            13   0     0    0\n",
       "2      11.2      5.5     38         21.5            15   0     0    0\n",
       "3      12.9      3.9     36         21.5            14   0     0    0\n",
       "4      18.5      4.5     46         21.5            15   0     0    0"
      ]
     },
     "execution_count": 42,
     "metadata": {},
     "output_type": "execute_result"
    }
   ],
   "source": [
    "numerical.head()"
   ]
  },
  {
   "cell_type": "code",
   "execution_count": 43,
   "id": "621a4f75",
   "metadata": {},
   "outputs": [
    {
     "data": {
      "text/plain": [
       "0"
      ]
     },
     "execution_count": 43,
     "metadata": {},
     "output_type": "execute_result"
    }
   ],
   "source": [
    "numerical.isna().sum().sum()"
   ]
  },
  {
   "cell_type": "markdown",
   "id": "4acd0de0",
   "metadata": {},
   "source": [
    "-----------------"
   ]
  },
  {
   "cell_type": "code",
   "execution_count": 44,
   "id": "7fb1446f",
   "metadata": {},
   "outputs": [],
   "source": [
    "# Splitting into categorical\n",
    "\n",
    "categorical = excel.select_dtypes(object)"
   ]
  },
  {
   "cell_type": "code",
   "execution_count": 45,
   "id": "57a0705b",
   "metadata": {},
   "outputs": [
    {
     "data": {
      "text/html": [
       "<div>\n",
       "<style scoped>\n",
       "    .dataframe tbody tr th:only-of-type {\n",
       "        vertical-align: middle;\n",
       "    }\n",
       "\n",
       "    .dataframe tbody tr th {\n",
       "        vertical-align: top;\n",
       "    }\n",
       "\n",
       "    .dataframe thead th {\n",
       "        text-align: right;\n",
       "    }\n",
       "</style>\n",
       "<table border=\"1\" class=\"dataframe\">\n",
       "  <thead>\n",
       "    <tr style=\"text-align: right;\">\n",
       "      <th></th>\n",
       "      <th>specials</th>\n",
       "      <th>gas_type</th>\n",
       "      <th>refill_gas</th>\n",
       "    </tr>\n",
       "  </thead>\n",
       "  <tbody>\n",
       "    <tr>\n",
       "      <th>0</th>\n",
       "      <td>NaN</td>\n",
       "      <td>E10</td>\n",
       "      <td>E10</td>\n",
       "    </tr>\n",
       "    <tr>\n",
       "      <th>1</th>\n",
       "      <td>NaN</td>\n",
       "      <td>E10</td>\n",
       "      <td>NaN</td>\n",
       "    </tr>\n",
       "    <tr>\n",
       "      <th>2</th>\n",
       "      <td>NaN</td>\n",
       "      <td>E10</td>\n",
       "      <td>NaN</td>\n",
       "    </tr>\n",
       "    <tr>\n",
       "      <th>3</th>\n",
       "      <td>NaN</td>\n",
       "      <td>E10</td>\n",
       "      <td>NaN</td>\n",
       "    </tr>\n",
       "    <tr>\n",
       "      <th>4</th>\n",
       "      <td>NaN</td>\n",
       "      <td>E10</td>\n",
       "      <td>NaN</td>\n",
       "    </tr>\n",
       "  </tbody>\n",
       "</table>\n",
       "</div>"
      ],
      "text/plain": [
       "  specials gas_type refill_gas\n",
       "0      NaN      E10        E10\n",
       "1      NaN      E10        NaN\n",
       "2      NaN      E10        NaN\n",
       "3      NaN      E10        NaN\n",
       "4      NaN      E10        NaN"
      ]
     },
     "metadata": {},
     "output_type": "display_data"
    },
    {
     "data": {
      "text/plain": [
       "(388, 3)"
      ]
     },
     "execution_count": 45,
     "metadata": {},
     "output_type": "execute_result"
    }
   ],
   "source": [
    "display(categorical.head())\n",
    "\n",
    "categorical.shape"
   ]
  },
  {
   "cell_type": "code",
   "execution_count": 46,
   "id": "cd556053",
   "metadata": {},
   "outputs": [
    {
     "data": {
      "text/plain": [
       "specials      295\n",
       "gas_type        0\n",
       "refill_gas    375\n",
       "dtype: int64"
      ]
     },
     "execution_count": 46,
     "metadata": {},
     "output_type": "execute_result"
    }
   ],
   "source": [
    "categorical.isna().sum()"
   ]
  },
  {
   "cell_type": "code",
   "execution_count": 47,
   "id": "ee242c2c",
   "metadata": {},
   "outputs": [
    {
     "data": {
      "text/plain": [
       "specials      76.030928\n",
       "gas_type       0.000000\n",
       "refill_gas    96.649485\n",
       "dtype: float64"
      ]
     },
     "execution_count": 47,
     "metadata": {},
     "output_type": "execute_result"
    }
   ],
   "source": [
    "categorical.isna().sum()/len(categorical)*100"
   ]
  },
  {
   "cell_type": "code",
   "execution_count": 48,
   "id": "fc498ea9",
   "metadata": {},
   "outputs": [],
   "source": [
    "# Specials and refill_gas containing mostly NaN. Let's see the values and if we can drop them directly."
   ]
  },
  {
   "cell_type": "code",
   "execution_count": 49,
   "id": "b66d75f1",
   "metadata": {},
   "outputs": [
    {
     "data": {
      "text/plain": [
       "specials\n",
       "rain                  32\n",
       "sun                   27\n",
       "AC rain                9\n",
       "ac                     8\n",
       "AC                     6\n",
       "snow                   3\n",
       "sun ac                 3\n",
       "AC snow                1\n",
       "half rain half sun     1\n",
       "AC sun                 1\n",
       "AC Sun                 1\n",
       "ac rain                1\n",
       "Name: count, dtype: int64"
      ]
     },
     "execution_count": 49,
     "metadata": {},
     "output_type": "execute_result"
    }
   ],
   "source": [
    "# Specials\n",
    "\n",
    "categorical.specials.value_counts()"
   ]
  },
  {
   "cell_type": "code",
   "execution_count": 50,
   "id": "cf6098ba",
   "metadata": {},
   "outputs": [],
   "source": [
    "# The values contain the same info as columns like ac, rain, sun. We are going to drop specials.\n",
    "\n",
    "cols_drop = ['specials']"
   ]
  },
  {
   "cell_type": "code",
   "execution_count": 51,
   "id": "604183e1",
   "metadata": {},
   "outputs": [
    {
     "data": {
      "text/plain": [
       "refill_gas\n",
       "SP98    8\n",
       "E10     5\n",
       "Name: count, dtype: int64"
      ]
     },
     "execution_count": 51,
     "metadata": {},
     "output_type": "execute_result"
    }
   ],
   "source": [
    "# refill_gas\n",
    "\n",
    "categorical.refill_gas.value_counts()"
   ]
  },
  {
   "cell_type": "code",
   "execution_count": 52,
   "id": "a6b294d5",
   "metadata": {},
   "outputs": [],
   "source": [
    "# The vaules are mostly NaN and this info can be found in gas_type. Let's drop it as well.\n",
    "\n",
    "cols_drop.append('refill_gas')"
   ]
  },
  {
   "cell_type": "code",
   "execution_count": 53,
   "id": "30b8af64",
   "metadata": {},
   "outputs": [],
   "source": [
    "categorical = categorical.drop (cols_drop, axis=1)"
   ]
  },
  {
   "cell_type": "code",
   "execution_count": 54,
   "id": "4d5d115a",
   "metadata": {},
   "outputs": [
    {
     "data": {
      "text/html": [
       "<div>\n",
       "<style scoped>\n",
       "    .dataframe tbody tr th:only-of-type {\n",
       "        vertical-align: middle;\n",
       "    }\n",
       "\n",
       "    .dataframe tbody tr th {\n",
       "        vertical-align: top;\n",
       "    }\n",
       "\n",
       "    .dataframe thead th {\n",
       "        text-align: right;\n",
       "    }\n",
       "</style>\n",
       "<table border=\"1\" class=\"dataframe\">\n",
       "  <thead>\n",
       "    <tr style=\"text-align: right;\">\n",
       "      <th></th>\n",
       "      <th>gas_type</th>\n",
       "    </tr>\n",
       "  </thead>\n",
       "  <tbody>\n",
       "    <tr>\n",
       "      <th>0</th>\n",
       "      <td>E10</td>\n",
       "    </tr>\n",
       "    <tr>\n",
       "      <th>1</th>\n",
       "      <td>E10</td>\n",
       "    </tr>\n",
       "    <tr>\n",
       "      <th>2</th>\n",
       "      <td>E10</td>\n",
       "    </tr>\n",
       "    <tr>\n",
       "      <th>3</th>\n",
       "      <td>E10</td>\n",
       "    </tr>\n",
       "    <tr>\n",
       "      <th>4</th>\n",
       "      <td>E10</td>\n",
       "    </tr>\n",
       "  </tbody>\n",
       "</table>\n",
       "</div>"
      ],
      "text/plain": [
       "  gas_type\n",
       "0      E10\n",
       "1      E10\n",
       "2      E10\n",
       "3      E10\n",
       "4      E10"
      ]
     },
     "execution_count": 54,
     "metadata": {},
     "output_type": "execute_result"
    }
   ],
   "source": [
    "categorical.head()"
   ]
  },
  {
   "cell_type": "markdown",
   "id": "c176eec3",
   "metadata": {},
   "source": [
    "---------"
   ]
  },
  {
   "cell_type": "code",
   "execution_count": 55,
   "id": "2dbc5610",
   "metadata": {},
   "outputs": [],
   "source": [
    "# Now we can concatenate them\n",
    "\n",
    "data = pd.concat([numerical,categorical],axis = 1)"
   ]
  },
  {
   "cell_type": "code",
   "execution_count": 56,
   "id": "ab366e82",
   "metadata": {},
   "outputs": [
    {
     "data": {
      "text/html": [
       "<div>\n",
       "<style scoped>\n",
       "    .dataframe tbody tr th:only-of-type {\n",
       "        vertical-align: middle;\n",
       "    }\n",
       "\n",
       "    .dataframe tbody tr th {\n",
       "        vertical-align: top;\n",
       "    }\n",
       "\n",
       "    .dataframe thead th {\n",
       "        text-align: right;\n",
       "    }\n",
       "</style>\n",
       "<table border=\"1\" class=\"dataframe\">\n",
       "  <thead>\n",
       "    <tr style=\"text-align: right;\">\n",
       "      <th></th>\n",
       "      <th>distance</th>\n",
       "      <th>consume</th>\n",
       "      <th>speed</th>\n",
       "      <th>temp_inside</th>\n",
       "      <th>temp_outside</th>\n",
       "      <th>ac</th>\n",
       "      <th>rain</th>\n",
       "      <th>sun</th>\n",
       "      <th>gas_type</th>\n",
       "    </tr>\n",
       "  </thead>\n",
       "  <tbody>\n",
       "    <tr>\n",
       "      <th>0</th>\n",
       "      <td>28.0</td>\n",
       "      <td>5.0</td>\n",
       "      <td>26</td>\n",
       "      <td>21.5</td>\n",
       "      <td>12</td>\n",
       "      <td>0</td>\n",
       "      <td>0</td>\n",
       "      <td>0</td>\n",
       "      <td>E10</td>\n",
       "    </tr>\n",
       "    <tr>\n",
       "      <th>1</th>\n",
       "      <td>12.0</td>\n",
       "      <td>4.2</td>\n",
       "      <td>30</td>\n",
       "      <td>21.5</td>\n",
       "      <td>13</td>\n",
       "      <td>0</td>\n",
       "      <td>0</td>\n",
       "      <td>0</td>\n",
       "      <td>E10</td>\n",
       "    </tr>\n",
       "    <tr>\n",
       "      <th>2</th>\n",
       "      <td>11.2</td>\n",
       "      <td>5.5</td>\n",
       "      <td>38</td>\n",
       "      <td>21.5</td>\n",
       "      <td>15</td>\n",
       "      <td>0</td>\n",
       "      <td>0</td>\n",
       "      <td>0</td>\n",
       "      <td>E10</td>\n",
       "    </tr>\n",
       "    <tr>\n",
       "      <th>3</th>\n",
       "      <td>12.9</td>\n",
       "      <td>3.9</td>\n",
       "      <td>36</td>\n",
       "      <td>21.5</td>\n",
       "      <td>14</td>\n",
       "      <td>0</td>\n",
       "      <td>0</td>\n",
       "      <td>0</td>\n",
       "      <td>E10</td>\n",
       "    </tr>\n",
       "    <tr>\n",
       "      <th>4</th>\n",
       "      <td>18.5</td>\n",
       "      <td>4.5</td>\n",
       "      <td>46</td>\n",
       "      <td>21.5</td>\n",
       "      <td>15</td>\n",
       "      <td>0</td>\n",
       "      <td>0</td>\n",
       "      <td>0</td>\n",
       "      <td>E10</td>\n",
       "    </tr>\n",
       "  </tbody>\n",
       "</table>\n",
       "</div>"
      ],
      "text/plain": [
       "   distance  consume  speed  temp_inside  temp_outside  ac  rain  sun gas_type\n",
       "0      28.0      5.0     26         21.5            12   0     0    0      E10\n",
       "1      12.0      4.2     30         21.5            13   0     0    0      E10\n",
       "2      11.2      5.5     38         21.5            15   0     0    0      E10\n",
       "3      12.9      3.9     36         21.5            14   0     0    0      E10\n",
       "4      18.5      4.5     46         21.5            15   0     0    0      E10"
      ]
     },
     "execution_count": 56,
     "metadata": {},
     "output_type": "execute_result"
    }
   ],
   "source": [
    "data.head()"
   ]
  },
  {
   "cell_type": "markdown",
   "id": "7972cf6d",
   "metadata": {},
   "source": [
    "-------------"
   ]
  },
  {
   "cell_type": "code",
   "execution_count": 57,
   "id": "1cc5d3b3",
   "metadata": {},
   "outputs": [],
   "source": [
    "# New features"
   ]
  },
  {
   "cell_type": "code",
   "execution_count": 58,
   "id": "35bc0e80",
   "metadata": {},
   "outputs": [],
   "source": [
    "# Cost per liter (Kaggle context information):\n",
    "\n",
    "# E10 is sold for 1,38€; SP98 is sold for 1,46€; per liter."
   ]
  },
  {
   "cell_type": "code",
   "execution_count": 59,
   "id": "5453085c",
   "metadata": {},
   "outputs": [],
   "source": [
    "# Fuel efficiency rate:\n",
    "\n",
    "data['fuel_efficiency_rate'] = round(data['distance'] / data['consume'],2)\n",
    "\n",
    "# Fuel efficiency at different speeds:\n",
    "\n",
    "data['fuel_efficiency_speed'] = round(data['consume'] / data['speed'],2)\n",
    "\n",
    "# Temperature difference:\n",
    "\n",
    "data['temperature_difference'] = round(data['temp_inside'] - data['temp_outside'], 2)\n",
    "\n",
    "# Estimated fuel used:\n",
    "\n",
    "data['estimated_fuel_used'] = round(data['distance'] * data['consume']/100,2)\n",
    "\n",
    "# Cost per trip\n",
    "\n",
    "data['cost_trip'] = np.where(data.gas_type == 'E10', data['estimated_fuel_used']*1.38, data['estimated_fuel_used']*1.46).round(2)"
   ]
  },
  {
   "cell_type": "code",
   "execution_count": 60,
   "id": "725f144a",
   "metadata": {},
   "outputs": [
    {
     "data": {
      "text/html": [
       "<div>\n",
       "<style scoped>\n",
       "    .dataframe tbody tr th:only-of-type {\n",
       "        vertical-align: middle;\n",
       "    }\n",
       "\n",
       "    .dataframe tbody tr th {\n",
       "        vertical-align: top;\n",
       "    }\n",
       "\n",
       "    .dataframe thead th {\n",
       "        text-align: right;\n",
       "    }\n",
       "</style>\n",
       "<table border=\"1\" class=\"dataframe\">\n",
       "  <thead>\n",
       "    <tr style=\"text-align: right;\">\n",
       "      <th></th>\n",
       "      <th>distance</th>\n",
       "      <th>consume</th>\n",
       "      <th>speed</th>\n",
       "      <th>temp_inside</th>\n",
       "      <th>temp_outside</th>\n",
       "      <th>ac</th>\n",
       "      <th>rain</th>\n",
       "      <th>sun</th>\n",
       "      <th>gas_type</th>\n",
       "      <th>fuel_efficiency_rate</th>\n",
       "      <th>fuel_efficiency_speed</th>\n",
       "      <th>temperature_difference</th>\n",
       "      <th>estimated_fuel_used</th>\n",
       "      <th>cost_trip</th>\n",
       "    </tr>\n",
       "  </thead>\n",
       "  <tbody>\n",
       "    <tr>\n",
       "      <th>0</th>\n",
       "      <td>28.0</td>\n",
       "      <td>5.0</td>\n",
       "      <td>26</td>\n",
       "      <td>21.5</td>\n",
       "      <td>12</td>\n",
       "      <td>0</td>\n",
       "      <td>0</td>\n",
       "      <td>0</td>\n",
       "      <td>E10</td>\n",
       "      <td>5.60</td>\n",
       "      <td>0.19</td>\n",
       "      <td>9.5</td>\n",
       "      <td>1.40</td>\n",
       "      <td>1.93</td>\n",
       "    </tr>\n",
       "    <tr>\n",
       "      <th>1</th>\n",
       "      <td>12.0</td>\n",
       "      <td>4.2</td>\n",
       "      <td>30</td>\n",
       "      <td>21.5</td>\n",
       "      <td>13</td>\n",
       "      <td>0</td>\n",
       "      <td>0</td>\n",
       "      <td>0</td>\n",
       "      <td>E10</td>\n",
       "      <td>2.86</td>\n",
       "      <td>0.14</td>\n",
       "      <td>8.5</td>\n",
       "      <td>0.50</td>\n",
       "      <td>0.69</td>\n",
       "    </tr>\n",
       "    <tr>\n",
       "      <th>2</th>\n",
       "      <td>11.2</td>\n",
       "      <td>5.5</td>\n",
       "      <td>38</td>\n",
       "      <td>21.5</td>\n",
       "      <td>15</td>\n",
       "      <td>0</td>\n",
       "      <td>0</td>\n",
       "      <td>0</td>\n",
       "      <td>E10</td>\n",
       "      <td>2.04</td>\n",
       "      <td>0.14</td>\n",
       "      <td>6.5</td>\n",
       "      <td>0.62</td>\n",
       "      <td>0.86</td>\n",
       "    </tr>\n",
       "    <tr>\n",
       "      <th>3</th>\n",
       "      <td>12.9</td>\n",
       "      <td>3.9</td>\n",
       "      <td>36</td>\n",
       "      <td>21.5</td>\n",
       "      <td>14</td>\n",
       "      <td>0</td>\n",
       "      <td>0</td>\n",
       "      <td>0</td>\n",
       "      <td>E10</td>\n",
       "      <td>3.31</td>\n",
       "      <td>0.11</td>\n",
       "      <td>7.5</td>\n",
       "      <td>0.50</td>\n",
       "      <td>0.69</td>\n",
       "    </tr>\n",
       "    <tr>\n",
       "      <th>4</th>\n",
       "      <td>18.5</td>\n",
       "      <td>4.5</td>\n",
       "      <td>46</td>\n",
       "      <td>21.5</td>\n",
       "      <td>15</td>\n",
       "      <td>0</td>\n",
       "      <td>0</td>\n",
       "      <td>0</td>\n",
       "      <td>E10</td>\n",
       "      <td>4.11</td>\n",
       "      <td>0.10</td>\n",
       "      <td>6.5</td>\n",
       "      <td>0.83</td>\n",
       "      <td>1.15</td>\n",
       "    </tr>\n",
       "  </tbody>\n",
       "</table>\n",
       "</div>"
      ],
      "text/plain": [
       "   distance  consume  speed  temp_inside  temp_outside  ac  rain  sun  \\\n",
       "0      28.0      5.0     26         21.5            12   0     0    0   \n",
       "1      12.0      4.2     30         21.5            13   0     0    0   \n",
       "2      11.2      5.5     38         21.5            15   0     0    0   \n",
       "3      12.9      3.9     36         21.5            14   0     0    0   \n",
       "4      18.5      4.5     46         21.5            15   0     0    0   \n",
       "\n",
       "  gas_type  fuel_efficiency_rate  fuel_efficiency_speed  \\\n",
       "0      E10                  5.60                   0.19   \n",
       "1      E10                  2.86                   0.14   \n",
       "2      E10                  2.04                   0.14   \n",
       "3      E10                  3.31                   0.11   \n",
       "4      E10                  4.11                   0.10   \n",
       "\n",
       "   temperature_difference  estimated_fuel_used  cost_trip  \n",
       "0                     9.5                 1.40       1.93  \n",
       "1                     8.5                 0.50       0.69  \n",
       "2                     6.5                 0.62       0.86  \n",
       "3                     7.5                 0.50       0.69  \n",
       "4                     6.5                 0.83       1.15  "
      ]
     },
     "execution_count": 60,
     "metadata": {},
     "output_type": "execute_result"
    }
   ],
   "source": [
    "data.head()"
   ]
  },
  {
   "cell_type": "markdown",
   "id": "b66d3a78",
   "metadata": {},
   "source": [
    "----------------"
   ]
  },
  {
   "cell_type": "code",
   "execution_count": 61,
   "id": "adbf3a6d",
   "metadata": {},
   "outputs": [
    {
     "data": {
      "text/html": [
       "<div>\n",
       "<style scoped>\n",
       "    .dataframe tbody tr th:only-of-type {\n",
       "        vertical-align: middle;\n",
       "    }\n",
       "\n",
       "    .dataframe tbody tr th {\n",
       "        vertical-align: top;\n",
       "    }\n",
       "\n",
       "    .dataframe thead th {\n",
       "        text-align: right;\n",
       "    }\n",
       "</style>\n",
       "<table border=\"1\" class=\"dataframe\">\n",
       "  <thead>\n",
       "    <tr style=\"text-align: right;\">\n",
       "      <th></th>\n",
       "      <th>distance</th>\n",
       "      <th>consume</th>\n",
       "      <th>speed</th>\n",
       "      <th>temp_inside</th>\n",
       "      <th>temp_outside</th>\n",
       "      <th>ac</th>\n",
       "      <th>rain</th>\n",
       "      <th>sun</th>\n",
       "      <th>fuel_efficiency_rate</th>\n",
       "      <th>fuel_efficiency_speed</th>\n",
       "      <th>temperature_difference</th>\n",
       "      <th>estimated_fuel_used</th>\n",
       "      <th>cost_trip</th>\n",
       "    </tr>\n",
       "  </thead>\n",
       "  <tbody>\n",
       "    <tr>\n",
       "      <th>0</th>\n",
       "      <td>28.0</td>\n",
       "      <td>5.0</td>\n",
       "      <td>26</td>\n",
       "      <td>21.5</td>\n",
       "      <td>12</td>\n",
       "      <td>0</td>\n",
       "      <td>0</td>\n",
       "      <td>0</td>\n",
       "      <td>5.60</td>\n",
       "      <td>0.19</td>\n",
       "      <td>9.5</td>\n",
       "      <td>1.40</td>\n",
       "      <td>1.93</td>\n",
       "    </tr>\n",
       "    <tr>\n",
       "      <th>1</th>\n",
       "      <td>12.0</td>\n",
       "      <td>4.2</td>\n",
       "      <td>30</td>\n",
       "      <td>21.5</td>\n",
       "      <td>13</td>\n",
       "      <td>0</td>\n",
       "      <td>0</td>\n",
       "      <td>0</td>\n",
       "      <td>2.86</td>\n",
       "      <td>0.14</td>\n",
       "      <td>8.5</td>\n",
       "      <td>0.50</td>\n",
       "      <td>0.69</td>\n",
       "    </tr>\n",
       "    <tr>\n",
       "      <th>2</th>\n",
       "      <td>11.2</td>\n",
       "      <td>5.5</td>\n",
       "      <td>38</td>\n",
       "      <td>21.5</td>\n",
       "      <td>15</td>\n",
       "      <td>0</td>\n",
       "      <td>0</td>\n",
       "      <td>0</td>\n",
       "      <td>2.04</td>\n",
       "      <td>0.14</td>\n",
       "      <td>6.5</td>\n",
       "      <td>0.62</td>\n",
       "      <td>0.86</td>\n",
       "    </tr>\n",
       "    <tr>\n",
       "      <th>3</th>\n",
       "      <td>12.9</td>\n",
       "      <td>3.9</td>\n",
       "      <td>36</td>\n",
       "      <td>21.5</td>\n",
       "      <td>14</td>\n",
       "      <td>0</td>\n",
       "      <td>0</td>\n",
       "      <td>0</td>\n",
       "      <td>3.31</td>\n",
       "      <td>0.11</td>\n",
       "      <td>7.5</td>\n",
       "      <td>0.50</td>\n",
       "      <td>0.69</td>\n",
       "    </tr>\n",
       "    <tr>\n",
       "      <th>4</th>\n",
       "      <td>18.5</td>\n",
       "      <td>4.5</td>\n",
       "      <td>46</td>\n",
       "      <td>21.5</td>\n",
       "      <td>15</td>\n",
       "      <td>0</td>\n",
       "      <td>0</td>\n",
       "      <td>0</td>\n",
       "      <td>4.11</td>\n",
       "      <td>0.10</td>\n",
       "      <td>6.5</td>\n",
       "      <td>0.83</td>\n",
       "      <td>1.15</td>\n",
       "    </tr>\n",
       "  </tbody>\n",
       "</table>\n",
       "</div>"
      ],
      "text/plain": [
       "   distance  consume  speed  temp_inside  temp_outside  ac  rain  sun  \\\n",
       "0      28.0      5.0     26         21.5            12   0     0    0   \n",
       "1      12.0      4.2     30         21.5            13   0     0    0   \n",
       "2      11.2      5.5     38         21.5            15   0     0    0   \n",
       "3      12.9      3.9     36         21.5            14   0     0    0   \n",
       "4      18.5      4.5     46         21.5            15   0     0    0   \n",
       "\n",
       "   fuel_efficiency_rate  fuel_efficiency_speed  temperature_difference  \\\n",
       "0                  5.60                   0.19                     9.5   \n",
       "1                  2.86                   0.14                     8.5   \n",
       "2                  2.04                   0.14                     6.5   \n",
       "3                  3.31                   0.11                     7.5   \n",
       "4                  4.11                   0.10                     6.5   \n",
       "\n",
       "   estimated_fuel_used  cost_trip  \n",
       "0                 1.40       1.93  \n",
       "1                 0.50       0.69  \n",
       "2                 0.62       0.86  \n",
       "3                 0.50       0.69  \n",
       "4                 0.83       1.15  "
      ]
     },
     "execution_count": 61,
     "metadata": {},
     "output_type": "execute_result"
    }
   ],
   "source": [
    "# Looking at describe\n",
    "\n",
    "numerical = data.select_dtypes(np.number)\n",
    "\n",
    "numerical.head()"
   ]
  },
  {
   "cell_type": "code",
   "execution_count": 62,
   "id": "5b212798",
   "metadata": {},
   "outputs": [
    {
     "data": {
      "text/html": [
       "<div>\n",
       "<style scoped>\n",
       "    .dataframe tbody tr th:only-of-type {\n",
       "        vertical-align: middle;\n",
       "    }\n",
       "\n",
       "    .dataframe tbody tr th {\n",
       "        vertical-align: top;\n",
       "    }\n",
       "\n",
       "    .dataframe thead th {\n",
       "        text-align: right;\n",
       "    }\n",
       "</style>\n",
       "<table border=\"1\" class=\"dataframe\">\n",
       "  <thead>\n",
       "    <tr style=\"text-align: right;\">\n",
       "      <th></th>\n",
       "      <th>count</th>\n",
       "      <th>mean</th>\n",
       "      <th>std</th>\n",
       "      <th>min</th>\n",
       "      <th>25%</th>\n",
       "      <th>50%</th>\n",
       "      <th>75%</th>\n",
       "      <th>max</th>\n",
       "    </tr>\n",
       "  </thead>\n",
       "  <tbody>\n",
       "    <tr>\n",
       "      <th>distance</th>\n",
       "      <td>388.0</td>\n",
       "      <td>19.652835</td>\n",
       "      <td>22.667837</td>\n",
       "      <td>1.30</td>\n",
       "      <td>11.8000</td>\n",
       "      <td>14.600</td>\n",
       "      <td>19.0000</td>\n",
       "      <td>216.10</td>\n",
       "    </tr>\n",
       "    <tr>\n",
       "      <th>consume</th>\n",
       "      <td>388.0</td>\n",
       "      <td>4.912371</td>\n",
       "      <td>1.033172</td>\n",
       "      <td>3.30</td>\n",
       "      <td>4.3000</td>\n",
       "      <td>4.700</td>\n",
       "      <td>5.3000</td>\n",
       "      <td>12.20</td>\n",
       "    </tr>\n",
       "    <tr>\n",
       "      <th>speed</th>\n",
       "      <td>388.0</td>\n",
       "      <td>41.927835</td>\n",
       "      <td>13.598524</td>\n",
       "      <td>14.00</td>\n",
       "      <td>32.7500</td>\n",
       "      <td>40.500</td>\n",
       "      <td>50.0000</td>\n",
       "      <td>90.00</td>\n",
       "    </tr>\n",
       "    <tr>\n",
       "      <th>temp_inside</th>\n",
       "      <td>388.0</td>\n",
       "      <td>21.931701</td>\n",
       "      <td>0.994741</td>\n",
       "      <td>19.00</td>\n",
       "      <td>21.5000</td>\n",
       "      <td>22.000</td>\n",
       "      <td>22.5000</td>\n",
       "      <td>25.50</td>\n",
       "    </tr>\n",
       "    <tr>\n",
       "      <th>temp_outside</th>\n",
       "      <td>388.0</td>\n",
       "      <td>11.358247</td>\n",
       "      <td>6.991542</td>\n",
       "      <td>-5.00</td>\n",
       "      <td>7.0000</td>\n",
       "      <td>10.000</td>\n",
       "      <td>16.0000</td>\n",
       "      <td>31.00</td>\n",
       "    </tr>\n",
       "    <tr>\n",
       "      <th>ac</th>\n",
       "      <td>388.0</td>\n",
       "      <td>0.077320</td>\n",
       "      <td>0.267443</td>\n",
       "      <td>0.00</td>\n",
       "      <td>0.0000</td>\n",
       "      <td>0.000</td>\n",
       "      <td>0.0000</td>\n",
       "      <td>1.00</td>\n",
       "    </tr>\n",
       "    <tr>\n",
       "      <th>rain</th>\n",
       "      <td>388.0</td>\n",
       "      <td>0.123711</td>\n",
       "      <td>0.329677</td>\n",
       "      <td>0.00</td>\n",
       "      <td>0.0000</td>\n",
       "      <td>0.000</td>\n",
       "      <td>0.0000</td>\n",
       "      <td>1.00</td>\n",
       "    </tr>\n",
       "    <tr>\n",
       "      <th>sun</th>\n",
       "      <td>388.0</td>\n",
       "      <td>0.082474</td>\n",
       "      <td>0.275441</td>\n",
       "      <td>0.00</td>\n",
       "      <td>0.0000</td>\n",
       "      <td>0.000</td>\n",
       "      <td>0.0000</td>\n",
       "      <td>1.00</td>\n",
       "    </tr>\n",
       "    <tr>\n",
       "      <th>fuel_efficiency_rate</th>\n",
       "      <td>388.0</td>\n",
       "      <td>4.199691</td>\n",
       "      <td>4.697179</td>\n",
       "      <td>0.11</td>\n",
       "      <td>2.3175</td>\n",
       "      <td>3.085</td>\n",
       "      <td>4.3625</td>\n",
       "      <td>45.87</td>\n",
       "    </tr>\n",
       "    <tr>\n",
       "      <th>fuel_efficiency_speed</th>\n",
       "      <td>388.0</td>\n",
       "      <td>0.133763</td>\n",
       "      <td>0.075881</td>\n",
       "      <td>0.05</td>\n",
       "      <td>0.0900</td>\n",
       "      <td>0.110</td>\n",
       "      <td>0.1500</td>\n",
       "      <td>0.77</td>\n",
       "    </tr>\n",
       "    <tr>\n",
       "      <th>temperature_difference</th>\n",
       "      <td>388.0</td>\n",
       "      <td>10.573454</td>\n",
       "      <td>6.698404</td>\n",
       "      <td>-8.00</td>\n",
       "      <td>6.3750</td>\n",
       "      <td>11.500</td>\n",
       "      <td>14.6250</td>\n",
       "      <td>26.00</td>\n",
       "    </tr>\n",
       "    <tr>\n",
       "      <th>estimated_fuel_used</th>\n",
       "      <td>388.0</td>\n",
       "      <td>0.935129</td>\n",
       "      <td>1.115987</td>\n",
       "      <td>0.12</td>\n",
       "      <td>0.5475</td>\n",
       "      <td>0.680</td>\n",
       "      <td>0.9200</td>\n",
       "      <td>11.45</td>\n",
       "    </tr>\n",
       "    <tr>\n",
       "      <th>cost_trip</th>\n",
       "      <td>388.0</td>\n",
       "      <td>1.332010</td>\n",
       "      <td>1.601370</td>\n",
       "      <td>0.17</td>\n",
       "      <td>0.7850</td>\n",
       "      <td>0.960</td>\n",
       "      <td>1.3050</td>\n",
       "      <td>16.72</td>\n",
       "    </tr>\n",
       "  </tbody>\n",
       "</table>\n",
       "</div>"
      ],
      "text/plain": [
       "                        count       mean        std    min      25%     50%  \\\n",
       "distance                388.0  19.652835  22.667837   1.30  11.8000  14.600   \n",
       "consume                 388.0   4.912371   1.033172   3.30   4.3000   4.700   \n",
       "speed                   388.0  41.927835  13.598524  14.00  32.7500  40.500   \n",
       "temp_inside             388.0  21.931701   0.994741  19.00  21.5000  22.000   \n",
       "temp_outside            388.0  11.358247   6.991542  -5.00   7.0000  10.000   \n",
       "ac                      388.0   0.077320   0.267443   0.00   0.0000   0.000   \n",
       "rain                    388.0   0.123711   0.329677   0.00   0.0000   0.000   \n",
       "sun                     388.0   0.082474   0.275441   0.00   0.0000   0.000   \n",
       "fuel_efficiency_rate    388.0   4.199691   4.697179   0.11   2.3175   3.085   \n",
       "fuel_efficiency_speed   388.0   0.133763   0.075881   0.05   0.0900   0.110   \n",
       "temperature_difference  388.0  10.573454   6.698404  -8.00   6.3750  11.500   \n",
       "estimated_fuel_used     388.0   0.935129   1.115987   0.12   0.5475   0.680   \n",
       "cost_trip               388.0   1.332010   1.601370   0.17   0.7850   0.960   \n",
       "\n",
       "                            75%     max  \n",
       "distance                19.0000  216.10  \n",
       "consume                  5.3000   12.20  \n",
       "speed                   50.0000   90.00  \n",
       "temp_inside             22.5000   25.50  \n",
       "temp_outside            16.0000   31.00  \n",
       "ac                       0.0000    1.00  \n",
       "rain                     0.0000    1.00  \n",
       "sun                      0.0000    1.00  \n",
       "fuel_efficiency_rate     4.3625   45.87  \n",
       "fuel_efficiency_speed    0.1500    0.77  \n",
       "temperature_difference  14.6250   26.00  \n",
       "estimated_fuel_used      0.9200   11.45  \n",
       "cost_trip                1.3050   16.72  "
      ]
     },
     "execution_count": 62,
     "metadata": {},
     "output_type": "execute_result"
    }
   ],
   "source": [
    "numerical.describe().T"
   ]
  },
  {
   "cell_type": "markdown",
   "id": "7621ed14",
   "metadata": {},
   "source": [
    "--------------"
   ]
  },
  {
   "cell_type": "code",
   "execution_count": 63,
   "id": "d318889d",
   "metadata": {},
   "outputs": [],
   "source": [
    "# Saving cleaned data\n",
    "\n",
    "data.to_csv('cleaned_data.csv', index=False)"
   ]
  },
  {
   "cell_type": "markdown",
   "id": "8cdd7492",
   "metadata": {},
   "source": [
    "-----------"
   ]
  },
  {
   "cell_type": "code",
   "execution_count": 64,
   "id": "0f10b513",
   "metadata": {},
   "outputs": [],
   "source": [
    "# Visualizations"
   ]
  },
  {
   "cell_type": "code",
   "execution_count": 65,
   "id": "73cc9b38",
   "metadata": {},
   "outputs": [
    {
     "data": {
      "image/png": "[encoded data removed]",
      "text/plain": [
       "<Figure size 640x480 with 1 Axes>"
      ]
     },
     "metadata": {},
     "output_type": "display_data"
    }
   ],
   "source": [
    "# Gas_type:\n",
    "\n",
    "fig, ax = plt.subplots()\n",
    "sns.countplot(data=data, x='gas_type')\n",
    "plt.show()"
   ]
  },
  {
   "cell_type": "code",
   "execution_count": 66,
   "id": "60f262f1",
   "metadata": {},
   "outputs": [],
   "source": [
    "# We see that there are more trips done with SP98 than E10."
   ]
  },
  {
   "cell_type": "code",
   "execution_count": 67,
   "id": "4200ada5",
   "metadata": {},
   "outputs": [],
   "source": [
    "# Plotting Numericals (histplot_col)\n",
    "\n",
    "def displot_variables(df):\n",
    "    num_cols = 4\n",
    "    num_rows = (len(df.columns) - 1) // num_cols + 1\n",
    "\n",
    "    plt.figure(figsize=(18, 4 * num_rows))\n",
    "\n",
    "    for i, col in enumerate(df.columns, 1):\n",
    "        plt.subplot(num_rows, num_cols, i + 1)\n",
    "        sns.histplot(df[col], kde=True)\n",
    "        plt.title(col)\n",
    "        plt.xticks(rotation=0)\n",
    "\n",
    "    plt.tight_layout()\n",
    "    plt.show()"
   ]
  },
  {
   "cell_type": "code",
   "execution_count": 68,
   "id": "fc05cfe6",
   "metadata": {},
   "outputs": [
    {
     "data": {
      "image/png": "[encoded data removed]",
      "text/plain": [
       "<Figure size 1800x1600 with 13 Axes>"
      ]
     },
     "metadata": {},
     "output_type": "display_data"
    }
   ],
   "source": [
    "displot_variables(numerical)"
   ]
  },
  {
   "cell_type": "code",
   "execution_count": 69,
   "id": "8953c918",
   "metadata": {},
   "outputs": [],
   "source": [
    "# I am not going to modify distributions."
   ]
  },
  {
   "cell_type": "markdown",
   "id": "c3bd3416",
   "metadata": {},
   "source": [
    "--------------------------"
   ]
  },
  {
   "cell_type": "code",
   "execution_count": 70,
   "id": "2103ad14",
   "metadata": {},
   "outputs": [],
   "source": [
    "# Relationship between gas_type and consume concerning distance, speed"
   ]
  },
  {
   "cell_type": "code",
   "execution_count": 71,
   "id": "9f69b82c",
   "metadata": {},
   "outputs": [
    {
     "data": {
      "image/png": "[encoded data removed]",
      "text/plain": [
       "<Figure size 585x500 with 1 Axes>"
      ]
     },
     "metadata": {},
     "output_type": "display_data"
    }
   ],
   "source": [
    "# Scatter plot with estimated_fuel_used versus distance, by gas_type:\n",
    "\n",
    "sns.lmplot(data=data, x='distance', y='estimated_fuel_used', hue='gas_type')\n",
    "plt.title('Fuel Consumption vs Distance by Gas Type')\n",
    "plt.xlabel('Distance')\n",
    "plt.ylabel('Fuel Consumption')\n",
    "plt.show()"
   ]
  },
  {
   "cell_type": "code",
   "execution_count": 72,
   "id": "8483026c",
   "metadata": {},
   "outputs": [],
   "source": [
    "# We see that SP98 is used more for larger distances."
   ]
  },
  {
   "cell_type": "code",
   "execution_count": 73,
   "id": "9eb6f011",
   "metadata": {},
   "outputs": [
    {
     "data": {
      "image/png": "[encoded data removed]",
      "text/plain": [
       "<Figure size 585x500 with 1 Axes>"
      ]
     },
     "metadata": {},
     "output_type": "display_data"
    }
   ],
   "source": [
    "# Scatter plot with estimated_fuel_used versus speed, by gas_type:\n",
    "\n",
    "sns.lmplot(data=data, x='speed', y='estimated_fuel_used', hue='gas_type')\n",
    "plt.title('Fuel Consumption vs Speed by Gas Type')\n",
    "plt.xlabel('Speed')\n",
    "plt.ylabel('Fuel Consumption')\n",
    "plt.show()"
   ]
  },
  {
   "cell_type": "code",
   "execution_count": 74,
   "id": "5c95be5e",
   "metadata": {},
   "outputs": [
    {
     "data": {
      "image/png": "[encoded data removed]",
      "text/plain": [
       "<Figure size 640x480 with 1 Axes>"
      ]
     },
     "metadata": {},
     "output_type": "display_data"
    }
   ],
   "source": [
    "# Line plot for speed versus estimated_fuel_used, by gas_type:\n",
    "\n",
    "sns.lineplot(data=data, x='speed', y='estimated_fuel_used', hue='gas_type')\n",
    "plt.title('Fuel Consumption vs Speed by Gas Type')\n",
    "plt.xlabel('Speed')\n",
    "plt.ylabel('Fuel Consumption')\n",
    "plt.show()"
   ]
  },
  {
   "cell_type": "code",
   "execution_count": 75,
   "id": "dd427cb8",
   "metadata": {},
   "outputs": [],
   "source": [
    "# The higher the speed, the higher the fuel consumption in SP98."
   ]
  },
  {
   "cell_type": "markdown",
   "id": "32db64a4",
   "metadata": {},
   "source": [
    "------------"
   ]
  },
  {
   "cell_type": "code",
   "execution_count": 76,
   "id": "a9072e65",
   "metadata": {},
   "outputs": [],
   "source": [
    "# Conclusions:\n",
    "\n",
    "# While both E10 and SP98 have similar consumption patterns at lower speeds, SP98 shows a more significant \n",
    "# increase in consumption compared to E10 as speed continues to rise beyond a certain threshold \n",
    "# (approximately 70). This could indicate that SP98 may have a higher impact on consumption efficiency at \n",
    "# higher speeds compared to E10.\n",
    "\n",
    "# While initially showing comparable consumption rates at lower speeds, the divergence becomes more pronounced \n",
    "# as the speed increases, with SP98 demonstrating a notably higher consumption rate compared to E10 at higher \n",
    "# speeds.\n",
    "\n",
    "# I would recommend to use E10 for its efficiency and costs benefit in compare to SP98."
   ]
  }
 ],
 "metadata": {
  "kernelspec": {
   "display_name": "Python 3 (ipykernel)",
   "language": "python",
   "name": "python3"
  },
  "language_info": {
   "codemirror_mode": {
    "name": "ipython",
    "version": 3
   },
   "file_extension": ".py",
   "mimetype": "text/x-python",
   "name": "python",
   "nbconvert_exporter": "python",
   "pygments_lexer": "ipython3",
   "version": "3.11.5"
  }
 },
 "nbformat": 4,
 "nbformat_minor": 5
}
