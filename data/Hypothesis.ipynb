{
 "cells": [
  {
   "cell_type": "code",
   "execution_count": 1,
   "id": "ce8ba542",
   "metadata": {},
   "outputs": [],
   "source": [
    "# Importing libraries\n",
    "\n",
    "import pandas as pd\n",
    "from scipy.stats import ttest_ind"
   ]
  },
  {
   "cell_type": "code",
   "execution_count": 2,
   "id": "f932ca75",
   "metadata": {},
   "outputs": [],
   "source": [
    "# Loading cleaned data\n",
    "\n",
    "data = pd.read_csv('cleaned_data.csv')"
   ]
  },
  {
   "cell_type": "code",
   "execution_count": 3,
   "id": "3f10b9b4",
   "metadata": {
    "scrolled": false
   },
   "outputs": [
    {
     "data": {
      "text/html": [
       "<div>\n",
       "<style scoped>\n",
       "    .dataframe tbody tr th:only-of-type {\n",
       "        vertical-align: middle;\n",
       "    }\n",
       "\n",
       "    .dataframe tbody tr th {\n",
       "        vertical-align: top;\n",
       "    }\n",
       "\n",
       "    .dataframe thead th {\n",
       "        text-align: right;\n",
       "    }\n",
       "</style>\n",
       "<table border=\"1\" class=\"dataframe\">\n",
       "  <thead>\n",
       "    <tr style=\"text-align: right;\">\n",
       "      <th></th>\n",
       "      <th>distance</th>\n",
       "      <th>consume</th>\n",
       "      <th>speed</th>\n",
       "      <th>temp_inside</th>\n",
       "      <th>temp_outside</th>\n",
       "      <th>ac</th>\n",
       "      <th>rain</th>\n",
       "      <th>sun</th>\n",
       "      <th>gas_type</th>\n",
       "      <th>fuel_efficiency_rate</th>\n",
       "      <th>fuel_efficiency_speed</th>\n",
       "      <th>temperature_difference</th>\n",
       "      <th>estimated_fuel_used</th>\n",
       "      <th>cost_trip</th>\n",
       "    </tr>\n",
       "  </thead>\n",
       "  <tbody>\n",
       "    <tr>\n",
       "      <th>0</th>\n",
       "      <td>28.0</td>\n",
       "      <td>5.0</td>\n",
       "      <td>26</td>\n",
       "      <td>21.5</td>\n",
       "      <td>12</td>\n",
       "      <td>0</td>\n",
       "      <td>0</td>\n",
       "      <td>0</td>\n",
       "      <td>E10</td>\n",
       "      <td>5.60</td>\n",
       "      <td>0.19</td>\n",
       "      <td>9.5</td>\n",
       "      <td>1.40</td>\n",
       "      <td>1.93</td>\n",
       "    </tr>\n",
       "    <tr>\n",
       "      <th>1</th>\n",
       "      <td>12.0</td>\n",
       "      <td>4.2</td>\n",
       "      <td>30</td>\n",
       "      <td>21.5</td>\n",
       "      <td>13</td>\n",
       "      <td>0</td>\n",
       "      <td>0</td>\n",
       "      <td>0</td>\n",
       "      <td>E10</td>\n",
       "      <td>2.86</td>\n",
       "      <td>0.14</td>\n",
       "      <td>8.5</td>\n",
       "      <td>0.50</td>\n",
       "      <td>0.69</td>\n",
       "    </tr>\n",
       "    <tr>\n",
       "      <th>2</th>\n",
       "      <td>11.2</td>\n",
       "      <td>5.5</td>\n",
       "      <td>38</td>\n",
       "      <td>21.5</td>\n",
       "      <td>15</td>\n",
       "      <td>0</td>\n",
       "      <td>0</td>\n",
       "      <td>0</td>\n",
       "      <td>E10</td>\n",
       "      <td>2.04</td>\n",
       "      <td>0.14</td>\n",
       "      <td>6.5</td>\n",
       "      <td>0.62</td>\n",
       "      <td>0.86</td>\n",
       "    </tr>\n",
       "    <tr>\n",
       "      <th>3</th>\n",
       "      <td>12.9</td>\n",
       "      <td>3.9</td>\n",
       "      <td>36</td>\n",
       "      <td>21.5</td>\n",
       "      <td>14</td>\n",
       "      <td>0</td>\n",
       "      <td>0</td>\n",
       "      <td>0</td>\n",
       "      <td>E10</td>\n",
       "      <td>3.31</td>\n",
       "      <td>0.11</td>\n",
       "      <td>7.5</td>\n",
       "      <td>0.50</td>\n",
       "      <td>0.69</td>\n",
       "    </tr>\n",
       "    <tr>\n",
       "      <th>4</th>\n",
       "      <td>18.5</td>\n",
       "      <td>4.5</td>\n",
       "      <td>46</td>\n",
       "      <td>21.5</td>\n",
       "      <td>15</td>\n",
       "      <td>0</td>\n",
       "      <td>0</td>\n",
       "      <td>0</td>\n",
       "      <td>E10</td>\n",
       "      <td>4.11</td>\n",
       "      <td>0.10</td>\n",
       "      <td>6.5</td>\n",
       "      <td>0.83</td>\n",
       "      <td>1.15</td>\n",
       "    </tr>\n",
       "  </tbody>\n",
       "</table>\n",
       "</div>"
      ],
      "text/plain": [
       "   distance  consume  speed  temp_inside  temp_outside  ac  rain  sun  \\\n",
       "0      28.0      5.0     26         21.5            12   0     0    0   \n",
       "1      12.0      4.2     30         21.5            13   0     0    0   \n",
       "2      11.2      5.5     38         21.5            15   0     0    0   \n",
       "3      12.9      3.9     36         21.5            14   0     0    0   \n",
       "4      18.5      4.5     46         21.5            15   0     0    0   \n",
       "\n",
       "  gas_type  fuel_efficiency_rate  fuel_efficiency_speed  \\\n",
       "0      E10                  5.60                   0.19   \n",
       "1      E10                  2.86                   0.14   \n",
       "2      E10                  2.04                   0.14   \n",
       "3      E10                  3.31                   0.11   \n",
       "4      E10                  4.11                   0.10   \n",
       "\n",
       "   temperature_difference  estimated_fuel_used  cost_trip  \n",
       "0                     9.5                 1.40       1.93  \n",
       "1                     8.5                 0.50       0.69  \n",
       "2                     6.5                 0.62       0.86  \n",
       "3                     7.5                 0.50       0.69  \n",
       "4                     6.5                 0.83       1.15  "
      ]
     },
     "execution_count": 3,
     "metadata": {},
     "output_type": "execute_result"
    }
   ],
   "source": [
    "data.head()"
   ]
  },
  {
   "cell_type": "markdown",
   "id": "eee69052",
   "metadata": {},
   "source": [
    "------------"
   ]
  },
  {
   "cell_type": "code",
   "execution_count": null,
   "id": "e94d5776",
   "metadata": {},
   "outputs": [],
   "source": [
    "# Hypothesis"
   ]
  },
  {
   "cell_type": "code",
   "execution_count": 4,
   "id": "d60e364b",
   "metadata": {},
   "outputs": [],
   "source": [
    "# 1. The fuel consumption of E10 and SP98 is not the same"
   ]
  },
  {
   "cell_type": "code",
   "execution_count": 5,
   "id": "7e82319f",
   "metadata": {},
   "outputs": [
    {
     "name": "stdout",
     "output_type": "stream",
     "text": [
      "statistic: 1.0888196268372858\n",
      "p-value: 0.27691275640147345\n"
     ]
    }
   ],
   "source": [
    "# two side test:\n",
    "\n",
    "# H0: E10 con. = SP98 con.\n",
    "# H1: E10 con. <> SP98 con.\n",
    "\n",
    "e10_fuel_used = data[data['gas_type'] == 'E10']['estimated_fuel_used']\n",
    "sp98_fuel_used = data[data['gas_type'] == 'SP98']['estimated_fuel_used']\n",
    "\n",
    "stat, pval = ttest_ind(e10_fuel_used, sp98_fuel_used)\n",
    "\n",
    "print('statistic:', stat)\n",
    "print('p-value:', pval)"
   ]
  },
  {
   "cell_type": "code",
   "execution_count": 6,
   "id": "e8563cab",
   "metadata": {},
   "outputs": [],
   "source": [
    "# With a pval of around 0.2769, we fail to reject the null hypothesis. This suggests that, based on the \n",
    "# analysis, there's insufficient evidence to conclude a significant difference in estimated fuel usage \n",
    "# between 'E10' and 'SP98' gas types."
   ]
  },
  {
   "cell_type": "markdown",
   "id": "f7414432",
   "metadata": {},
   "source": [
    "-------------"
   ]
  },
  {
   "cell_type": "code",
   "execution_count": 7,
   "id": "0574c57b",
   "metadata": {},
   "outputs": [],
   "source": [
    "# 2. The fuel type has not the same cost_trip "
   ]
  },
  {
   "cell_type": "code",
   "execution_count": 8,
   "id": "d285fe37",
   "metadata": {},
   "outputs": [
    {
     "name": "stdout",
     "output_type": "stream",
     "text": [
      "T-statistic: 0.6163666916961232\n",
      "P-value: 0.5380158525740002\n"
     ]
    }
   ],
   "source": [
    "# two side test:\n",
    "\n",
    "# H0: E10 cost_trip = SP98 cost_trip\n",
    "# H1: E10 cost_trip <> SP98 cost_trip\n",
    "\n",
    "e10_cost_trip = data[data['gas_type'] == 'E10']['cost_trip']\n",
    "sp98_cost_trip = data[data['gas_type'] == 'SP98']['cost_trip']\n",
    "\n",
    "stat, pval = ttest_ind(e10_cost_trip, sp98_cost_trip)\n",
    "\n",
    "print('T-statistic:', stat)\n",
    "print('P-value:', pval)"
   ]
  },
  {
   "cell_type": "code",
   "execution_count": 9,
   "id": "7f14184d",
   "metadata": {},
   "outputs": [],
   "source": [
    "# With a pval of around 0.5380, there isn't sufficient evidence to reject the null hypothesis. \n",
    "# This suggests that there's no significant difference in the cost per trip between E10 and SP98."
   ]
  }
 ],
 "metadata": {
  "kernelspec": {
   "display_name": "Python 3 (ipykernel)",
   "language": "python",
   "name": "python3"
  },
  "language_info": {
   "codemirror_mode": {
    "name": "ipython",
    "version": 3
   },
   "file_extension": ".py",
   "mimetype": "text/x-python",
   "name": "python",
   "nbconvert_exporter": "python",
   "pygments_lexer": "ipython3",
   "version": "3.11.5"
  }
 },
 "nbformat": 4,
 "nbformat_minor": 5
}
